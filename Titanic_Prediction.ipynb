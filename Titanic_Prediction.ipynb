{
  "nbformat": 4,
  "nbformat_minor": 0,
  "metadata": {
    "kernelspec": {
      "language": "python",
      "display_name": "Python 3",
      "name": "python3"
    },
    "language_info": {
      "pygments_lexer": "ipython3",
      "nbconvert_exporter": "python",
      "version": "3.6.4",
      "file_extension": ".py",
      "codemirror_mode": {
        "name": "ipython",
        "version": 3
      },
      "name": "python",
      "mimetype": "text/x-python"
    },
    "colab": {
      "name": "titanic-prediction.ipynb",
      "provenance": [],
      "include_colab_link": true
    }
  },
  "cells": [
    {
      "cell_type": "markdown",
      "metadata": {
        "id": "view-in-github",
        "colab_type": "text"
      },
      "source": [
        "<a href=\"https://colab.research.google.com/github/prithvimurjani/Titanic-Kaggle-Competition/blob/main/Titanic_Prediction.ipynb\" target=\"_parent\"><img src=\"https://colab.research.google.com/assets/colab-badge.svg\" alt=\"Open In Colab\"/></a>"
      ]
    },
    {
      "cell_type": "code",
      "metadata": {
        "_uuid": "8f2839f25d086af736a60e9eeb907d3b93b6e0e5",
        "_cell_guid": "b1076dfc-b9ad-4769-8c92-a6c4dae69d19",
        "execution": {
          "iopub.status.busy": "2021-10-07T10:12:47.164942Z",
          "iopub.execute_input": "2021-10-07T10:12:47.166059Z",
          "iopub.status.idle": "2021-10-07T10:12:47.498041Z",
          "shell.execute_reply.started": "2021-10-07T10:12:47.165913Z",
          "shell.execute_reply": "2021-10-07T10:12:47.497131Z"
        },
        "trusted": true,
        "id": "Lb6MEA91RPBb"
      },
      "source": [
        "# This Python 3 environment comes with many helpful analytics libraries installed\n",
        "# It is defined by the kaggle/python Docker image: https://github.com/kaggle/docker-python\n",
        "# For example, here's several helpful packages to load\n",
        "\n",
        "import numpy as np # linear algebra\n",
        "import pandas as pd # data processing, CSV file I/O (e.g. pd.read_csv)\n",
        "import matplotlib.pyplot as plt\n",
        "import seaborn as sns\n",
        "\n",
        "# Input data files are available in the read-only \"../input/\" directory\n",
        "# For example, running this (by clicking run or pressing Shift+Enter) will list all files under the input directory\n",
        "\n",
        "import os\n",
        "for dirname, _, filenames in os.walk('/kaggle/input'):\n",
        "    for filename in filenames:\n",
        "        print(os.path.join(dirname, filename))\n",
        "\n",
        "# You can write up to 20GB to the current directory (/kaggle/working/) that gets preserved as output when you create a version using \"Save & Run All\" \n",
        "# You can also write temporary files to /kaggle/temp/, but they won't be saved outside of the current session"
      ],
      "execution_count": 1,
      "outputs": []
    },
    {
      "cell_type": "markdown",
      "metadata": {
        "id": "vzYXusiiRPBe"
      },
      "source": [
        ""
      ]
    },
    {
      "cell_type": "code",
      "metadata": {
        "execution": {
          "iopub.status.busy": "2021-10-07T10:12:47.50053Z",
          "iopub.execute_input": "2021-10-07T10:12:47.500877Z",
          "iopub.status.idle": "2021-10-07T10:12:47.506186Z",
          "shell.execute_reply.started": "2021-10-07T10:12:47.500837Z",
          "shell.execute_reply": "2021-10-07T10:12:47.505288Z"
        },
        "trusted": true,
        "id": "sIdPnA5eRPBg"
      },
      "source": [
        "# Understanding nature of the data .info() .describe()\n",
        "# Histograms and boxplots\n",
        "# Value counts # Since we can't do histograms for categorical variables\n",
        "# Missing data\n",
        "# Correlation between the metrics\n",
        "# Exploring interesting themes\n",
        "    # Wealthy survive?\n",
        "    # By location\n",
        "    # Age scatterplot\n",
        "    # Young and wealthy variable?\n",
        "    # Total spent?\n",
        "# Feature engineering\n",
        "# preprocess data together or use a transformer?\n",
        "    # use label for train and test\n",
        "# Scaling?\n",
        "\n",
        "# Model Baseline\n",
        "# Model comparison with CV"
      ],
      "execution_count": 2,
      "outputs": []
    },
    {
      "cell_type": "markdown",
      "metadata": {
        "id": "XtojnCo2RPBh"
      },
      "source": [
        "Exploring the data\n",
        "\n",
        "For NUMERIC data - \n",
        "    Make histograms to understand dsitributions\n",
        "    Corrplot\n",
        "    Pivot Table comparing survival rate across numeric variables\n",
        "\n",
        "For CATEGORICAL data - \n",
        "    Make bar charts to understand balance of classes\n",
        "    Make pivot tables to understand relationship with survival"
      ]
    },
    {
      "cell_type": "code",
      "metadata": {
        "execution": {
          "iopub.status.busy": "2021-10-07T10:12:47.507494Z",
          "iopub.execute_input": "2021-10-07T10:12:47.508121Z",
          "iopub.status.idle": "2021-10-07T10:12:47.55326Z",
          "shell.execute_reply.started": "2021-10-07T10:12:47.508081Z",
          "shell.execute_reply": "2021-10-07T10:12:47.552355Z"
        },
        "trusted": true,
        "colab": {
          "base_uri": "https://localhost:8080/",
          "height": 476
        },
        "id": "76aApvnjRPBh",
        "outputId": "8c20b9ea-52de-4dea-bee0-7bf95f8f9327"
      },
      "source": [
        "train_data = pd.read_csv('train.csv')\n",
        "test_data = pd.read_csv('test.csv')\n",
        "\n",
        "train_data['train_test'] = 1\n",
        "test_data['train_test'] = 0\n",
        "test_data['Survived'] = np.NaN\n",
        "all_data = pd.concat([train_data,test_data])\n",
        "train_data.head()"
      ],
      "execution_count": 3,
      "outputs": [
        {
          "output_type": "execute_result",
          "data": {
            "text/html": [
              "<div>\n",
              "<style scoped>\n",
              "    .dataframe tbody tr th:only-of-type {\n",
              "        vertical-align: middle;\n",
              "    }\n",
              "\n",
              "    .dataframe tbody tr th {\n",
              "        vertical-align: top;\n",
              "    }\n",
              "\n",
              "    .dataframe thead th {\n",
              "        text-align: right;\n",
              "    }\n",
              "</style>\n",
              "<table border=\"1\" class=\"dataframe\">\n",
              "  <thead>\n",
              "    <tr style=\"text-align: right;\">\n",
              "      <th></th>\n",
              "      <th>PassengerId</th>\n",
              "      <th>Survived</th>\n",
              "      <th>Pclass</th>\n",
              "      <th>Name</th>\n",
              "      <th>Sex</th>\n",
              "      <th>Age</th>\n",
              "      <th>SibSp</th>\n",
              "      <th>Parch</th>\n",
              "      <th>Ticket</th>\n",
              "      <th>Fare</th>\n",
              "      <th>Cabin</th>\n",
              "      <th>Embarked</th>\n",
              "      <th>train_test</th>\n",
              "    </tr>\n",
              "  </thead>\n",
              "  <tbody>\n",
              "    <tr>\n",
              "      <th>0</th>\n",
              "      <td>1</td>\n",
              "      <td>0</td>\n",
              "      <td>3</td>\n",
              "      <td>Braund, Mr. Owen Harris</td>\n",
              "      <td>male</td>\n",
              "      <td>22.0</td>\n",
              "      <td>1</td>\n",
              "      <td>0</td>\n",
              "      <td>A/5 21171</td>\n",
              "      <td>7.2500</td>\n",
              "      <td>NaN</td>\n",
              "      <td>S</td>\n",
              "      <td>1</td>\n",
              "    </tr>\n",
              "    <tr>\n",
              "      <th>1</th>\n",
              "      <td>2</td>\n",
              "      <td>1</td>\n",
              "      <td>1</td>\n",
              "      <td>Cumings, Mrs. John Bradley (Florence Briggs Th...</td>\n",
              "      <td>female</td>\n",
              "      <td>38.0</td>\n",
              "      <td>1</td>\n",
              "      <td>0</td>\n",
              "      <td>PC 17599</td>\n",
              "      <td>71.2833</td>\n",
              "      <td>C85</td>\n",
              "      <td>C</td>\n",
              "      <td>1</td>\n",
              "    </tr>\n",
              "    <tr>\n",
              "      <th>2</th>\n",
              "      <td>3</td>\n",
              "      <td>1</td>\n",
              "      <td>3</td>\n",
              "      <td>Heikkinen, Miss. Laina</td>\n",
              "      <td>female</td>\n",
              "      <td>26.0</td>\n",
              "      <td>0</td>\n",
              "      <td>0</td>\n",
              "      <td>STON/O2. 3101282</td>\n",
              "      <td>7.9250</td>\n",
              "      <td>NaN</td>\n",
              "      <td>S</td>\n",
              "      <td>1</td>\n",
              "    </tr>\n",
              "    <tr>\n",
              "      <th>3</th>\n",
              "      <td>4</td>\n",
              "      <td>1</td>\n",
              "      <td>1</td>\n",
              "      <td>Futrelle, Mrs. Jacques Heath (Lily May Peel)</td>\n",
              "      <td>female</td>\n",
              "      <td>35.0</td>\n",
              "      <td>1</td>\n",
              "      <td>0</td>\n",
              "      <td>113803</td>\n",
              "      <td>53.1000</td>\n",
              "      <td>C123</td>\n",
              "      <td>S</td>\n",
              "      <td>1</td>\n",
              "    </tr>\n",
              "    <tr>\n",
              "      <th>4</th>\n",
              "      <td>5</td>\n",
              "      <td>0</td>\n",
              "      <td>3</td>\n",
              "      <td>Allen, Mr. William Henry</td>\n",
              "      <td>male</td>\n",
              "      <td>35.0</td>\n",
              "      <td>0</td>\n",
              "      <td>0</td>\n",
              "      <td>373450</td>\n",
              "      <td>8.0500</td>\n",
              "      <td>NaN</td>\n",
              "      <td>S</td>\n",
              "      <td>1</td>\n",
              "    </tr>\n",
              "  </tbody>\n",
              "</table>\n",
              "</div>"
            ],
            "text/plain": [
              "   PassengerId  Survived  Pclass  ... Cabin Embarked  train_test\n",
              "0            1         0       3  ...   NaN        S           1\n",
              "1            2         1       1  ...   C85        C           1\n",
              "2            3         1       3  ...   NaN        S           1\n",
              "3            4         1       1  ...  C123        S           1\n",
              "4            5         0       3  ...   NaN        S           1\n",
              "\n",
              "[5 rows x 13 columns]"
            ]
          },
          "metadata": {},
          "execution_count": 3
        }
      ]
    },
    {
      "cell_type": "code",
      "metadata": {
        "execution": {
          "iopub.status.busy": "2021-10-07T10:12:47.554512Z",
          "iopub.execute_input": "2021-10-07T10:12:47.554712Z",
          "iopub.status.idle": "2021-10-07T10:12:47.573122Z",
          "shell.execute_reply.started": "2021-10-07T10:12:47.554689Z",
          "shell.execute_reply": "2021-10-07T10:12:47.571937Z"
        },
        "trusted": true,
        "colab": {
          "base_uri": "https://localhost:8080/"
        },
        "id": "wHYFkUyjRPBh",
        "outputId": "028beb40-2c37-43f0-f6af-1a73d063ca73"
      },
      "source": [
        "train_data.info()"
      ],
      "execution_count": 4,
      "outputs": [
        {
          "output_type": "stream",
          "name": "stdout",
          "text": [
            "<class 'pandas.core.frame.DataFrame'>\n",
            "RangeIndex: 891 entries, 0 to 890\n",
            "Data columns (total 13 columns):\n",
            " #   Column       Non-Null Count  Dtype  \n",
            "---  ------       --------------  -----  \n",
            " 0   PassengerId  891 non-null    int64  \n",
            " 1   Survived     891 non-null    int64  \n",
            " 2   Pclass       891 non-null    int64  \n",
            " 3   Name         891 non-null    object \n",
            " 4   Sex          891 non-null    object \n",
            " 5   Age          714 non-null    float64\n",
            " 6   SibSp        891 non-null    int64  \n",
            " 7   Parch        891 non-null    int64  \n",
            " 8   Ticket       891 non-null    object \n",
            " 9   Fare         891 non-null    float64\n",
            " 10  Cabin        204 non-null    object \n",
            " 11  Embarked     889 non-null    object \n",
            " 12  train_test   891 non-null    int64  \n",
            "dtypes: float64(2), int64(6), object(5)\n",
            "memory usage: 90.6+ KB\n"
          ]
        }
      ]
    },
    {
      "cell_type": "code",
      "metadata": {
        "execution": {
          "iopub.status.busy": "2021-10-07T10:12:47.575638Z",
          "iopub.execute_input": "2021-10-07T10:12:47.576044Z",
          "iopub.status.idle": "2021-10-07T10:12:47.610636Z",
          "shell.execute_reply.started": "2021-10-07T10:12:47.576003Z",
          "shell.execute_reply": "2021-10-07T10:12:47.609028Z"
        },
        "trusted": true,
        "colab": {
          "base_uri": "https://localhost:8080/",
          "height": 297
        },
        "id": "_xmslZHqRPBi",
        "outputId": "76330d32-ed96-4ff2-af83-b26fbeefc16d"
      },
      "source": [
        "# Use describe() to get a better understanding of the central tendencies of the data\n",
        "train_data.describe()"
      ],
      "execution_count": 5,
      "outputs": [
        {
          "output_type": "execute_result",
          "data": {
            "text/html": [
              "<div>\n",
              "<style scoped>\n",
              "    .dataframe tbody tr th:only-of-type {\n",
              "        vertical-align: middle;\n",
              "    }\n",
              "\n",
              "    .dataframe tbody tr th {\n",
              "        vertical-align: top;\n",
              "    }\n",
              "\n",
              "    .dataframe thead th {\n",
              "        text-align: right;\n",
              "    }\n",
              "</style>\n",
              "<table border=\"1\" class=\"dataframe\">\n",
              "  <thead>\n",
              "    <tr style=\"text-align: right;\">\n",
              "      <th></th>\n",
              "      <th>PassengerId</th>\n",
              "      <th>Survived</th>\n",
              "      <th>Pclass</th>\n",
              "      <th>Age</th>\n",
              "      <th>SibSp</th>\n",
              "      <th>Parch</th>\n",
              "      <th>Fare</th>\n",
              "      <th>train_test</th>\n",
              "    </tr>\n",
              "  </thead>\n",
              "  <tbody>\n",
              "    <tr>\n",
              "      <th>count</th>\n",
              "      <td>891.000000</td>\n",
              "      <td>891.000000</td>\n",
              "      <td>891.000000</td>\n",
              "      <td>714.000000</td>\n",
              "      <td>891.000000</td>\n",
              "      <td>891.000000</td>\n",
              "      <td>891.000000</td>\n",
              "      <td>891.0</td>\n",
              "    </tr>\n",
              "    <tr>\n",
              "      <th>mean</th>\n",
              "      <td>446.000000</td>\n",
              "      <td>0.383838</td>\n",
              "      <td>2.308642</td>\n",
              "      <td>29.699118</td>\n",
              "      <td>0.523008</td>\n",
              "      <td>0.381594</td>\n",
              "      <td>32.204208</td>\n",
              "      <td>1.0</td>\n",
              "    </tr>\n",
              "    <tr>\n",
              "      <th>std</th>\n",
              "      <td>257.353842</td>\n",
              "      <td>0.486592</td>\n",
              "      <td>0.836071</td>\n",
              "      <td>14.526497</td>\n",
              "      <td>1.102743</td>\n",
              "      <td>0.806057</td>\n",
              "      <td>49.693429</td>\n",
              "      <td>0.0</td>\n",
              "    </tr>\n",
              "    <tr>\n",
              "      <th>min</th>\n",
              "      <td>1.000000</td>\n",
              "      <td>0.000000</td>\n",
              "      <td>1.000000</td>\n",
              "      <td>0.420000</td>\n",
              "      <td>0.000000</td>\n",
              "      <td>0.000000</td>\n",
              "      <td>0.000000</td>\n",
              "      <td>1.0</td>\n",
              "    </tr>\n",
              "    <tr>\n",
              "      <th>25%</th>\n",
              "      <td>223.500000</td>\n",
              "      <td>0.000000</td>\n",
              "      <td>2.000000</td>\n",
              "      <td>20.125000</td>\n",
              "      <td>0.000000</td>\n",
              "      <td>0.000000</td>\n",
              "      <td>7.910400</td>\n",
              "      <td>1.0</td>\n",
              "    </tr>\n",
              "    <tr>\n",
              "      <th>50%</th>\n",
              "      <td>446.000000</td>\n",
              "      <td>0.000000</td>\n",
              "      <td>3.000000</td>\n",
              "      <td>28.000000</td>\n",
              "      <td>0.000000</td>\n",
              "      <td>0.000000</td>\n",
              "      <td>14.454200</td>\n",
              "      <td>1.0</td>\n",
              "    </tr>\n",
              "    <tr>\n",
              "      <th>75%</th>\n",
              "      <td>668.500000</td>\n",
              "      <td>1.000000</td>\n",
              "      <td>3.000000</td>\n",
              "      <td>38.000000</td>\n",
              "      <td>1.000000</td>\n",
              "      <td>0.000000</td>\n",
              "      <td>31.000000</td>\n",
              "      <td>1.0</td>\n",
              "    </tr>\n",
              "    <tr>\n",
              "      <th>max</th>\n",
              "      <td>891.000000</td>\n",
              "      <td>1.000000</td>\n",
              "      <td>3.000000</td>\n",
              "      <td>80.000000</td>\n",
              "      <td>8.000000</td>\n",
              "      <td>6.000000</td>\n",
              "      <td>512.329200</td>\n",
              "      <td>1.0</td>\n",
              "    </tr>\n",
              "  </tbody>\n",
              "</table>\n",
              "</div>"
            ],
            "text/plain": [
              "       PassengerId    Survived      Pclass  ...       Parch        Fare  train_test\n",
              "count   891.000000  891.000000  891.000000  ...  891.000000  891.000000       891.0\n",
              "mean    446.000000    0.383838    2.308642  ...    0.381594   32.204208         1.0\n",
              "std     257.353842    0.486592    0.836071  ...    0.806057   49.693429         0.0\n",
              "min       1.000000    0.000000    1.000000  ...    0.000000    0.000000         1.0\n",
              "25%     223.500000    0.000000    2.000000  ...    0.000000    7.910400         1.0\n",
              "50%     446.000000    0.000000    3.000000  ...    0.000000   14.454200         1.0\n",
              "75%     668.500000    1.000000    3.000000  ...    0.000000   31.000000         1.0\n",
              "max     891.000000    1.000000    3.000000  ...    6.000000  512.329200         1.0\n",
              "\n",
              "[8 rows x 8 columns]"
            ]
          },
          "metadata": {},
          "execution_count": 5
        }
      ]
    },
    {
      "cell_type": "code",
      "metadata": {
        "execution": {
          "iopub.status.busy": "2021-10-07T10:12:47.611944Z",
          "iopub.execute_input": "2021-10-07T10:12:47.612197Z",
          "iopub.status.idle": "2021-10-07T10:12:47.642537Z",
          "shell.execute_reply.started": "2021-10-07T10:12:47.612171Z",
          "shell.execute_reply": "2021-10-07T10:12:47.641537Z"
        },
        "trusted": true,
        "colab": {
          "base_uri": "https://localhost:8080/"
        },
        "id": "RV59Q3kMRPBj",
        "outputId": "b03244e5-25a9-45f1-908e-e41f1888b0ca"
      },
      "source": [
        "train_data.describe().columns"
      ],
      "execution_count": 6,
      "outputs": [
        {
          "output_type": "execute_result",
          "data": {
            "text/plain": [
              "Index(['PassengerId', 'Survived', 'Pclass', 'Age', 'SibSp', 'Parch', 'Fare',\n",
              "       'train_test'],\n",
              "      dtype='object')"
            ]
          },
          "metadata": {},
          "execution_count": 6
        }
      ]
    },
    {
      "cell_type": "code",
      "metadata": {
        "execution": {
          "iopub.status.busy": "2021-10-07T10:12:47.643999Z",
          "iopub.execute_input": "2021-10-07T10:12:47.644342Z",
          "iopub.status.idle": "2021-10-07T10:12:47.652863Z",
          "shell.execute_reply.started": "2021-10-07T10:12:47.644272Z",
          "shell.execute_reply": "2021-10-07T10:12:47.651792Z"
        },
        "trusted": true,
        "id": "rrETtY05RPBj"
      },
      "source": [
        "# Looking at numeric and categorical variables separately\n",
        "df_numerical = train_data[['Age', 'SibSp', 'Parch', 'Fare']]\n",
        "df_categorical = train_data[['Survived','Pclass','Sex', 'Ticket', 'Cabin', 'Embarked']]"
      ],
      "execution_count": 7,
      "outputs": []
    },
    {
      "cell_type": "code",
      "metadata": {
        "execution": {
          "iopub.status.busy": "2021-10-07T10:12:47.65395Z",
          "iopub.execute_input": "2021-10-07T10:12:47.654278Z",
          "iopub.status.idle": "2021-10-07T10:12:47.674795Z",
          "shell.execute_reply.started": "2021-10-07T10:12:47.654242Z",
          "shell.execute_reply": "2021-10-07T10:12:47.673977Z"
        },
        "trusted": true,
        "colab": {
          "base_uri": "https://localhost:8080/",
          "height": 80
        },
        "id": "6IsJdtAhRPBk",
        "outputId": "a8d0b8d5-3e8d-4200-e3c0-53a5ba651c83"
      },
      "source": [
        "df_numerical.head(1)"
      ],
      "execution_count": 8,
      "outputs": [
        {
          "output_type": "execute_result",
          "data": {
            "text/html": [
              "<div>\n",
              "<style scoped>\n",
              "    .dataframe tbody tr th:only-of-type {\n",
              "        vertical-align: middle;\n",
              "    }\n",
              "\n",
              "    .dataframe tbody tr th {\n",
              "        vertical-align: top;\n",
              "    }\n",
              "\n",
              "    .dataframe thead th {\n",
              "        text-align: right;\n",
              "    }\n",
              "</style>\n",
              "<table border=\"1\" class=\"dataframe\">\n",
              "  <thead>\n",
              "    <tr style=\"text-align: right;\">\n",
              "      <th></th>\n",
              "      <th>Age</th>\n",
              "      <th>SibSp</th>\n",
              "      <th>Parch</th>\n",
              "      <th>Fare</th>\n",
              "    </tr>\n",
              "  </thead>\n",
              "  <tbody>\n",
              "    <tr>\n",
              "      <th>0</th>\n",
              "      <td>22.0</td>\n",
              "      <td>1</td>\n",
              "      <td>0</td>\n",
              "      <td>7.25</td>\n",
              "    </tr>\n",
              "  </tbody>\n",
              "</table>\n",
              "</div>"
            ],
            "text/plain": [
              "    Age  SibSp  Parch  Fare\n",
              "0  22.0      1      0  7.25"
            ]
          },
          "metadata": {},
          "execution_count": 8
        }
      ]
    },
    {
      "cell_type": "code",
      "metadata": {
        "execution": {
          "iopub.status.busy": "2021-10-07T10:12:47.676542Z",
          "iopub.execute_input": "2021-10-07T10:12:47.677123Z",
          "iopub.status.idle": "2021-10-07T10:12:47.691485Z",
          "shell.execute_reply.started": "2021-10-07T10:12:47.677085Z",
          "shell.execute_reply": "2021-10-07T10:12:47.690477Z"
        },
        "trusted": true,
        "colab": {
          "base_uri": "https://localhost:8080/",
          "height": 80
        },
        "id": "Xsi0IYbrRPBk",
        "outputId": "6bd19b5d-0689-4cb6-c395-b48004140a9e"
      },
      "source": [
        "df_categorical.head(1)"
      ],
      "execution_count": 9,
      "outputs": [
        {
          "output_type": "execute_result",
          "data": {
            "text/html": [
              "<div>\n",
              "<style scoped>\n",
              "    .dataframe tbody tr th:only-of-type {\n",
              "        vertical-align: middle;\n",
              "    }\n",
              "\n",
              "    .dataframe tbody tr th {\n",
              "        vertical-align: top;\n",
              "    }\n",
              "\n",
              "    .dataframe thead th {\n",
              "        text-align: right;\n",
              "    }\n",
              "</style>\n",
              "<table border=\"1\" class=\"dataframe\">\n",
              "  <thead>\n",
              "    <tr style=\"text-align: right;\">\n",
              "      <th></th>\n",
              "      <th>Survived</th>\n",
              "      <th>Pclass</th>\n",
              "      <th>Sex</th>\n",
              "      <th>Ticket</th>\n",
              "      <th>Cabin</th>\n",
              "      <th>Embarked</th>\n",
              "    </tr>\n",
              "  </thead>\n",
              "  <tbody>\n",
              "    <tr>\n",
              "      <th>0</th>\n",
              "      <td>0</td>\n",
              "      <td>3</td>\n",
              "      <td>male</td>\n",
              "      <td>A/5 21171</td>\n",
              "      <td>NaN</td>\n",
              "      <td>S</td>\n",
              "    </tr>\n",
              "  </tbody>\n",
              "</table>\n",
              "</div>"
            ],
            "text/plain": [
              "   Survived  Pclass   Sex     Ticket Cabin Embarked\n",
              "0         0       3  male  A/5 21171   NaN        S"
            ]
          },
          "metadata": {},
          "execution_count": 9
        }
      ]
    },
    {
      "cell_type": "code",
      "metadata": {
        "execution": {
          "iopub.status.busy": "2021-10-07T10:12:47.69317Z",
          "iopub.execute_input": "2021-10-07T10:12:47.693468Z",
          "iopub.status.idle": "2021-10-07T10:12:48.522885Z",
          "shell.execute_reply.started": "2021-10-07T10:12:47.693433Z",
          "shell.execute_reply": "2021-10-07T10:12:48.522043Z"
        },
        "trusted": true,
        "colab": {
          "base_uri": "https://localhost:8080/",
          "height": 1000
        },
        "id": "RGEDtgqRRPBl",
        "outputId": "dbc60e59-4306-44e8-fa74-99f844e770ba"
      },
      "source": [
        "# Making histograms for all numeric variables\n",
        "for i in df_numerical.columns:\n",
        "    plt.hist(df_numerical[i])\n",
        "    plt.title(i)\n",
        "    plt.show()"
      ],
      "execution_count": 10,
      "outputs": [
        {
          "output_type": "display_data",
          "data": {
            "image/png": "[encoded data removed]",
            "text/plain": [
              "<Figure size 432x288 with 1 Axes>"
            ]
          },
          "metadata": {
            "needs_background": "light"
          }
        },
        {
          "output_type": "display_data",
          "data": {
            "image/png": "[encoded data removed]",
            "text/plain": [
              "<Figure size 432x288 with 1 Axes>"
            ]
          },
          "metadata": {
            "needs_background": "light"
          }
        },
        {
          "output_type": "display_data",
          "data": {
            "image/png": "[encoded data removed]",
            "text/plain": [
              "<Figure size 432x288 with 1 Axes>"
            ]
          },
          "metadata": {
            "needs_background": "light"
          }
        },
        {
          "output_type": "display_data",
          "data": {
            "image/png": "[encoded data removed]",
            "text/plain": [
              "<Figure size 432x288 with 1 Axes>"
            ]
          },
          "metadata": {
            "needs_background": "light"
          }
        }
      ]
    },
    {
      "cell_type": "markdown",
      "metadata": {
        "id": "nNC6r5CxRPBl"
      },
      "source": [
        "Age is fairly normalized, but fare can be normalized since we see larger values for it initially.\n",
        "SibSp and Parch have fewer categories so it may not really matter"
      ]
    },
    {
      "cell_type": "code",
      "metadata": {
        "execution": {
          "iopub.status.busy": "2021-10-07T10:12:48.524002Z",
          "iopub.execute_input": "2021-10-07T10:12:48.524218Z",
          "iopub.status.idle": "2021-10-07T10:12:48.814892Z",
          "shell.execute_reply.started": "2021-10-07T10:12:48.524194Z",
          "shell.execute_reply": "2021-10-07T10:12:48.813948Z"
        },
        "trusted": true,
        "colab": {
          "base_uri": "https://localhost:8080/",
          "height": 371
        },
        "id": "com7SShRRPBm",
        "outputId": "60e3f486-0311-4d84-a19f-4c62f80522f7"
      },
      "source": [
        "# Lets understand the correlation between variables\n",
        "print(df_numerical.corr())\n",
        "sns.heatmap(df_numerical.corr())"
      ],
      "execution_count": 11,
      "outputs": [
        {
          "output_type": "stream",
          "name": "stdout",
          "text": [
            "            Age     SibSp     Parch      Fare\n",
            "Age    1.000000 -0.308247 -0.189119  0.096067\n",
            "SibSp -0.308247  1.000000  0.414838  0.159651\n",
            "Parch -0.189119  0.414838  1.000000  0.216225\n",
            "Fare   0.096067  0.159651  0.216225  1.000000\n"
          ]
        },
        {
          "output_type": "execute_result",
          "data": {
            "text/plain": [
              "<matplotlib.axes._subplots.AxesSubplot at 0x7f6b4297d8d0>"
            ]
          },
          "metadata": {},
          "execution_count": 11
        },
        {
          "output_type": "display_data",
          "data": {
            "image/png": "[encoded data removed]",
            "text/plain": [
              "<Figure size 432x288 with 2 Axes>"
            ]
          },
          "metadata": {
            "needs_background": "light"
          }
        }
      ]
    },
    {
      "cell_type": "code",
      "metadata": {
        "execution": {
          "iopub.status.busy": "2021-10-07T10:12:48.817244Z",
          "iopub.execute_input": "2021-10-07T10:12:48.817713Z",
          "iopub.status.idle": "2021-10-07T10:12:48.839143Z",
          "shell.execute_reply.started": "2021-10-07T10:12:48.817677Z",
          "shell.execute_reply": "2021-10-07T10:12:48.838138Z"
        },
        "trusted": true,
        "colab": {
          "base_uri": "https://localhost:8080/",
          "height": 142
        },
        "id": "2ub6WwVgRPBm",
        "outputId": "2ea80a4b-883c-4cb5-c442-d087e1644c3f"
      },
      "source": [
        "# Understanding how these numerical features compare with the survival rate\n",
        "pd.pivot_table(train_data, index = 'Survived', values = ['Age', 'SibSp', 'Parch', 'Fare'])"
      ],
      "execution_count": 12,
      "outputs": [
        {
          "output_type": "execute_result",
          "data": {
            "text/html": [
              "<div>\n",
              "<style scoped>\n",
              "    .dataframe tbody tr th:only-of-type {\n",
              "        vertical-align: middle;\n",
              "    }\n",
              "\n",
              "    .dataframe tbody tr th {\n",
              "        vertical-align: top;\n",
              "    }\n",
              "\n",
              "    .dataframe thead th {\n",
              "        text-align: right;\n",
              "    }\n",
              "</style>\n",
              "<table border=\"1\" class=\"dataframe\">\n",
              "  <thead>\n",
              "    <tr style=\"text-align: right;\">\n",
              "      <th></th>\n",
              "      <th>Age</th>\n",
              "      <th>Fare</th>\n",
              "      <th>Parch</th>\n",
              "      <th>SibSp</th>\n",
              "    </tr>\n",
              "    <tr>\n",
              "      <th>Survived</th>\n",
              "      <th></th>\n",
              "      <th></th>\n",
              "      <th></th>\n",
              "      <th></th>\n",
              "    </tr>\n",
              "  </thead>\n",
              "  <tbody>\n",
              "    <tr>\n",
              "      <th>0</th>\n",
              "      <td>30.626179</td>\n",
              "      <td>22.117887</td>\n",
              "      <td>0.329690</td>\n",
              "      <td>0.553734</td>\n",
              "    </tr>\n",
              "    <tr>\n",
              "      <th>1</th>\n",
              "      <td>28.343690</td>\n",
              "      <td>48.395408</td>\n",
              "      <td>0.464912</td>\n",
              "      <td>0.473684</td>\n",
              "    </tr>\n",
              "  </tbody>\n",
              "</table>\n",
              "</div>"
            ],
            "text/plain": [
              "                Age       Fare     Parch     SibSp\n",
              "Survived                                          \n",
              "0         30.626179  22.117887  0.329690  0.553734\n",
              "1         28.343690  48.395408  0.464912  0.473684"
            ]
          },
          "metadata": {},
          "execution_count": 12
        }
      ]
    },
    {
      "cell_type": "markdown",
      "metadata": {
        "id": "29mu9feBRPBm"
      },
      "source": [
        "The above data indicates that younger people have a better chance of surviving, richer people had better survival rates, parch indicates perhaps parents may put their children first, and Sibsp indicates maybe a sibling has a better chance at survival."
      ]
    },
    {
      "cell_type": "code",
      "metadata": {
        "execution": {
          "iopub.status.busy": "2021-10-07T10:12:48.840214Z",
          "iopub.execute_input": "2021-10-07T10:12:48.841334Z",
          "iopub.status.idle": "2021-10-07T10:13:00.476557Z",
          "shell.execute_reply.started": "2021-10-07T10:12:48.841303Z",
          "shell.execute_reply": "2021-10-07T10:13:00.475692Z"
        },
        "trusted": true,
        "colab": {
          "base_uri": "https://localhost:8080/",
          "height": 1000
        },
        "id": "svHZl22ARPBn",
        "outputId": "5789dd98-85c4-4724-fea2-94c0ab56eb86"
      },
      "source": [
        "# Exploring the categorical variables\n",
        "for i in df_categorical.columns:\n",
        "    sns.barplot(df_categorical[i].value_counts().index, df_categorical[i].value_counts()).set_title(i)\n",
        "    plt.figure(figsize=(40,18))\n",
        "    plt.show()"
      ],
      "execution_count": 13,
      "outputs": [
        {
          "output_type": "stream",
          "name": "stderr",
          "text": [
            "/usr/local/lib/python3.7/dist-packages/seaborn/_decorators.py:43: FutureWarning: Pass the following variables as keyword args: x, y. From version 0.12, the only valid positional argument will be `data`, and passing other arguments without an explicit keyword will result in an error or misinterpretation.\n",
            "  FutureWarning\n"
          ]
        },
        {
          "output_type": "display_data",
          "data": {
            "image/png": "[encoded data removed]",
            "text/plain": [
              "<Figure size 432x288 with 1 Axes>"
            ]
          },
          "metadata": {
            "needs_background": "light"
          }
        },
        {
          "output_type": "display_data",
          "data": {
            "text/plain": [
              "<Figure size 2880x1296 with 0 Axes>"
            ]
          },
          "metadata": {}
        },
        {
          "output_type": "stream",
          "name": "stderr",
          "text": [
            "/usr/local/lib/python3.7/dist-packages/seaborn/_decorators.py:43: FutureWarning: Pass the following variables as keyword args: x, y. From version 0.12, the only valid positional argument will be `data`, and passing other arguments without an explicit keyword will result in an error or misinterpretation.\n",
            "  FutureWarning\n"
          ]
        },
        {
          "output_type": "display_data",
          "data": {
            "image/png": "[encoded data removed]",
            "text/plain": [
              "<Figure size 432x288 with 1 Axes>"
            ]
          },
          "metadata": {
            "needs_background": "light"
          }
        },
        {
          "output_type": "display_data",
          "data": {
            "text/plain": [
              "<Figure size 2880x1296 with 0 Axes>"
            ]
          },
          "metadata": {}
        },
        {
          "output_type": "stream",
          "name": "stderr",
          "text": [
            "/usr/local/lib/python3.7/dist-packages/seaborn/_decorators.py:43: FutureWarning: Pass the following variables as keyword args: x, y. From version 0.12, the only valid positional argument will be `data`, and passing other arguments without an explicit keyword will result in an error or misinterpretation.\n",
            "  FutureWarning\n"
          ]
        },
        {
          "output_type": "display_data",
          "data": {
            "image/png": "[encoded data removed]",
            "text/plain": [
              "<Figure size 432x288 with 1 Axes>"
            ]
          },
          "metadata": {
            "needs_background": "light"
          }
        },
        {
          "output_type": "display_data",
          "data": {
            "text/plain": [
              "<Figure size 2880x1296 with 0 Axes>"
            ]
          },
          "metadata": {}
        },
        {
          "output_type": "stream",
          "name": "stderr",
          "text": [
            "/usr/local/lib/python3.7/dist-packages/seaborn/_decorators.py:43: FutureWarning: Pass the following variables as keyword args: x, y. From version 0.12, the only valid positional argument will be `data`, and passing other arguments without an explicit keyword will result in an error or misinterpretation.\n",
            "  FutureWarning\n"
          ]
        },
        {
          "output_type": "display_data",
          "data": {
            "image/png": "[encoded data removed]",
            "text/plain": [
              "<Figure size 432x288 with 1 Axes>"
            ]
          },
          "metadata": {
            "needs_background": "light"
          }
        },
        {
          "output_type": "display_data",
          "data": {
            "text/plain": [
              "<Figure size 2880x1296 with 0 Axes>"
            ]
          },
          "metadata": {}
        },
        {
          "output_type": "stream",
          "name": "stderr",
          "text": [
            "/usr/local/lib/python3.7/dist-packages/seaborn/_decorators.py:43: FutureWarning: Pass the following variables as keyword args: x, y. From version 0.12, the only valid positional argument will be `data`, and passing other arguments without an explicit keyword will result in an error or misinterpretation.\n",
            "  FutureWarning\n"
          ]
        },
        {
          "output_type": "display_data",
          "data": {
            "image/png": "[encoded data removed]",
            "text/plain": [
              "<Figure size 432x288 with 1 Axes>"
            ]
          },
          "metadata": {
            "needs_background": "light"
          }
        },
        {
          "output_type": "display_data",
          "data": {
            "text/plain": [
              "<Figure size 2880x1296 with 0 Axes>"
            ]
          },
          "metadata": {}
        },
        {
          "output_type": "stream",
          "name": "stderr",
          "text": [
            "/usr/local/lib/python3.7/dist-packages/seaborn/_decorators.py:43: FutureWarning: Pass the following variables as keyword args: x, y. From version 0.12, the only valid positional argument will be `data`, and passing other arguments without an explicit keyword will result in an error or misinterpretation.\n",
            "  FutureWarning\n"
          ]
        },
        {
          "output_type": "display_data",
          "data": {
            "image/png": "[encoded data removed]",
            "text/plain": [
              "<Figure size 432x288 with 1 Axes>"
            ]
          },
          "metadata": {
            "needs_background": "light"
          }
        },
        {
          "output_type": "display_data",
          "data": {
            "text/plain": [
              "<Figure size 2880x1296 with 0 Axes>"
            ]
          },
          "metadata": {}
        }
      ]
    },
    {
      "cell_type": "markdown",
      "metadata": {
        "id": "QKPBIHPsRPBn"
      },
      "source": [
        "The Cabin and Ticket graphs are messy and some feature engineering can be done there"
      ]
    },
    {
      "cell_type": "code",
      "metadata": {
        "execution": {
          "iopub.status.busy": "2021-10-07T10:13:00.480202Z",
          "iopub.execute_input": "2021-10-07T10:13:00.480426Z",
          "iopub.status.idle": "2021-10-07T10:13:00.5207Z",
          "shell.execute_reply.started": "2021-10-07T10:13:00.480399Z",
          "shell.execute_reply": "2021-10-07T10:13:00.519755Z"
        },
        "trusted": true,
        "colab": {
          "base_uri": "https://localhost:8080/"
        },
        "id": "QKKfCg6-RPBn",
        "outputId": "df64578f-4b9b-416a-93e0-4d75db98e376"
      },
      "source": [
        "# Building a pivot table to compare the categorical variables with the survival rate\n",
        "print(pd.pivot_table(train_data, index = 'Survived', columns ='Pclass', values = 'Ticket', aggfunc = 'count'))\n",
        "print()\n",
        "print(pd.pivot_table(train_data, index = 'Survived', columns = 'Sex', values = 'Ticket', aggfunc = 'count'))\n",
        "print()\n",
        "print(pd.pivot_table(train_data, index = 'Survived', columns = 'Embarked', values = 'Ticket', aggfunc = 'count'))"
      ],
      "execution_count": 14,
      "outputs": [
        {
          "output_type": "stream",
          "name": "stdout",
          "text": [
            "Pclass      1   2    3\n",
            "Survived              \n",
            "0          80  97  372\n",
            "1         136  87  119\n",
            "\n",
            "Sex       female  male\n",
            "Survived              \n",
            "0             81   468\n",
            "1            233   109\n",
            "\n",
            "Embarked   C   Q    S\n",
            "Survived             \n",
            "0         75  47  427\n",
            "1         93  30  217\n"
          ]
        }
      ]
    },
    {
      "cell_type": "markdown",
      "metadata": {
        "id": "4k_7WwJ3RPBn"
      },
      "source": [
        "We notice a lot more people in 1st class survived.\n",
        "More females survived compared to men\n",
        "For place of embark, maybe people embarking at C showed a better survival rate but this is trivial."
      ]
    },
    {
      "cell_type": "markdown",
      "metadata": {
        "id": "_PHg6iE3RPBo"
      },
      "source": [
        "Feature engineering\n",
        "\n",
        "1. Cabin - Simplify cabins (evaluated if cabin letter (cabin_adv) or the purchase of tickets across multiple cabins (cabin_multiple) impacted survival)\n",
        "\n",
        "2. Tickets - Do different ticket types impact survival rates?\n",
        "\n",
        "3. Does a person's title relate to survival rates?\n",
        "\n"
      ]
    },
    {
      "cell_type": "code",
      "metadata": {
        "execution": {
          "iopub.status.busy": "2021-10-07T10:13:00.521897Z",
          "iopub.execute_input": "2021-10-07T10:13:00.522116Z",
          "iopub.status.idle": "2021-10-07T10:13:00.530886Z",
          "shell.execute_reply.started": "2021-10-07T10:13:00.522092Z",
          "shell.execute_reply": "2021-10-07T10:13:00.53008Z"
        },
        "trusted": true,
        "colab": {
          "base_uri": "https://localhost:8080/"
        },
        "id": "Xt0K9FzWRPBo",
        "outputId": "85f148ef-a549-4056-8ee6-01a7bb90d4eb"
      },
      "source": [
        "train_data.Cabin"
      ],
      "execution_count": 15,
      "outputs": [
        {
          "output_type": "execute_result",
          "data": {
            "text/plain": [
              "0       NaN\n",
              "1       C85\n",
              "2       NaN\n",
              "3      C123\n",
              "4       NaN\n",
              "       ... \n",
              "886     NaN\n",
              "887     B42\n",
              "888     NaN\n",
              "889    C148\n",
              "890     NaN\n",
              "Name: Cabin, Length: 891, dtype: object"
            ]
          },
          "metadata": {},
          "execution_count": 15
        }
      ]
    },
    {
      "cell_type": "code",
      "metadata": {
        "execution": {
          "iopub.status.busy": "2021-10-07T10:13:00.53204Z",
          "iopub.execute_input": "2021-10-07T10:13:00.532241Z",
          "iopub.status.idle": "2021-10-07T10:13:00.546517Z",
          "shell.execute_reply.started": "2021-10-07T10:13:00.532218Z",
          "shell.execute_reply": "2021-10-07T10:13:00.545581Z"
        },
        "trusted": true,
        "colab": {
          "base_uri": "https://localhost:8080/"
        },
        "id": "f7_PVlJURPBo",
        "outputId": "df344a39-2865-42e6-8a7f-6795530142dc"
      },
      "source": [
        "# We are trying to understand how many people have multiple cabins\n",
        "train_data['cabin_multiple'] = train_data.Cabin.apply(lambda x : 0 if pd.isna(x) else len(x.split(' ')))\n",
        "# after looking at this we may want to look at cabin by letter or by number. Let's create some categories for this\n",
        "# letters\n",
        "# multiple letters\n",
        "train_data['cabin_multiple'].value_counts()"
      ],
      "execution_count": 16,
      "outputs": [
        {
          "output_type": "execute_result",
          "data": {
            "text/plain": [
              "0    687\n",
              "1    180\n",
              "2     16\n",
              "3      6\n",
              "4      2\n",
              "Name: cabin_multiple, dtype: int64"
            ]
          },
          "metadata": {},
          "execution_count": 16
        }
      ]
    },
    {
      "cell_type": "markdown",
      "metadata": {
        "id": "fOMQxZs7RPBo"
      },
      "source": [
        "We were trying to see if people had multiple cabins, but the majority did not."
      ]
    },
    {
      "cell_type": "code",
      "metadata": {
        "execution": {
          "iopub.status.busy": "2021-10-07T10:13:00.547573Z",
          "iopub.execute_input": "2021-10-07T10:13:00.547811Z",
          "iopub.status.idle": "2021-10-07T10:13:00.560973Z",
          "shell.execute_reply.started": "2021-10-07T10:13:00.547783Z",
          "shell.execute_reply": "2021-10-07T10:13:00.56015Z"
        },
        "trusted": true,
        "colab": {
          "base_uri": "https://localhost:8080/"
        },
        "id": "apW9ndN5RPBp",
        "outputId": "c1cb17aa-43ee-406d-b3fe-d094d3c9214f"
      },
      "source": [
        "train_data['cabin_multiple'].unique()"
      ],
      "execution_count": 17,
      "outputs": [
        {
          "output_type": "execute_result",
          "data": {
            "text/plain": [
              "array([0, 1, 3, 2, 4])"
            ]
          },
          "metadata": {},
          "execution_count": 17
        }
      ]
    },
    {
      "cell_type": "code",
      "metadata": {
        "execution": {
          "iopub.status.busy": "2021-10-07T10:13:00.562583Z",
          "iopub.execute_input": "2021-10-07T10:13:00.563115Z",
          "iopub.status.idle": "2021-10-07T10:13:00.593027Z",
          "shell.execute_reply.started": "2021-10-07T10:13:00.56307Z",
          "shell.execute_reply": "2021-10-07T10:13:00.592153Z"
        },
        "trusted": true,
        "colab": {
          "base_uri": "https://localhost:8080/",
          "height": 142
        },
        "id": "_Ufg2MyuRPBp",
        "outputId": "52ddeb5d-5944-485b-ca23-976aa265e9af"
      },
      "source": [
        "pd.pivot_table(train_data, index ='Survived', columns = 'cabin_multiple', values = 'Ticket', aggfunc = 'count')"
      ],
      "execution_count": 18,
      "outputs": [
        {
          "output_type": "execute_result",
          "data": {
            "text/html": [
              "<div>\n",
              "<style scoped>\n",
              "    .dataframe tbody tr th:only-of-type {\n",
              "        vertical-align: middle;\n",
              "    }\n",
              "\n",
              "    .dataframe tbody tr th {\n",
              "        vertical-align: top;\n",
              "    }\n",
              "\n",
              "    .dataframe thead th {\n",
              "        text-align: right;\n",
              "    }\n",
              "</style>\n",
              "<table border=\"1\" class=\"dataframe\">\n",
              "  <thead>\n",
              "    <tr style=\"text-align: right;\">\n",
              "      <th>cabin_multiple</th>\n",
              "      <th>0</th>\n",
              "      <th>1</th>\n",
              "      <th>2</th>\n",
              "      <th>3</th>\n",
              "      <th>4</th>\n",
              "    </tr>\n",
              "    <tr>\n",
              "      <th>Survived</th>\n",
              "      <th></th>\n",
              "      <th></th>\n",
              "      <th></th>\n",
              "      <th></th>\n",
              "      <th></th>\n",
              "    </tr>\n",
              "  </thead>\n",
              "  <tbody>\n",
              "    <tr>\n",
              "      <th>0</th>\n",
              "      <td>481.0</td>\n",
              "      <td>58.0</td>\n",
              "      <td>7.0</td>\n",
              "      <td>3.0</td>\n",
              "      <td>NaN</td>\n",
              "    </tr>\n",
              "    <tr>\n",
              "      <th>1</th>\n",
              "      <td>206.0</td>\n",
              "      <td>122.0</td>\n",
              "      <td>9.0</td>\n",
              "      <td>3.0</td>\n",
              "      <td>2.0</td>\n",
              "    </tr>\n",
              "  </tbody>\n",
              "</table>\n",
              "</div>"
            ],
            "text/plain": [
              "cabin_multiple      0      1    2    3    4\n",
              "Survived                                   \n",
              "0               481.0   58.0  7.0  3.0  NaN\n",
              "1               206.0  122.0  9.0  3.0  2.0"
            ]
          },
          "metadata": {},
          "execution_count": 18
        }
      ]
    },
    {
      "cell_type": "code",
      "metadata": {
        "execution": {
          "iopub.status.busy": "2021-10-07T10:13:00.594774Z",
          "iopub.execute_input": "2021-10-07T10:13:00.595046Z",
          "iopub.status.idle": "2021-10-07T10:13:00.605885Z",
          "shell.execute_reply.started": "2021-10-07T10:13:00.595013Z",
          "shell.execute_reply": "2021-10-07T10:13:00.604795Z"
        },
        "trusted": true,
        "colab": {
          "base_uri": "https://localhost:8080/"
        },
        "id": "bf8fdnpFRPBp",
        "outputId": "411704e3-3f05-4978-e764-8cd1dfe7709d"
      },
      "source": [
        "# Create a category based on the cabin letter. Since cabins with the same letter may be in and around the same area we shall analyze their \n",
        "# effect on survival rates.\n",
        "# n stands for no cabin letter given\n",
        "train_data['cabin_adv'] = train_data.Cabin.apply(lambda x : str(x)[0])\n",
        "train_data['cabin_adv']"
      ],
      "execution_count": 19,
      "outputs": [
        {
          "output_type": "execute_result",
          "data": {
            "text/plain": [
              "0      n\n",
              "1      C\n",
              "2      n\n",
              "3      C\n",
              "4      n\n",
              "      ..\n",
              "886    n\n",
              "887    B\n",
              "888    n\n",
              "889    C\n",
              "890    n\n",
              "Name: cabin_adv, Length: 891, dtype: object"
            ]
          },
          "metadata": {},
          "execution_count": 19
        }
      ]
    },
    {
      "cell_type": "code",
      "metadata": {
        "execution": {
          "iopub.status.busy": "2021-10-07T10:13:00.60714Z",
          "iopub.execute_input": "2021-10-07T10:13:00.60737Z",
          "iopub.status.idle": "2021-10-07T10:13:00.626008Z",
          "shell.execute_reply.started": "2021-10-07T10:13:00.607346Z",
          "shell.execute_reply": "2021-10-07T10:13:00.624899Z"
        },
        "trusted": true,
        "colab": {
          "base_uri": "https://localhost:8080/"
        },
        "id": "LiOLGgQWRPBp",
        "outputId": "c97c947f-a6af-438c-b6f8-1f135abeaf83"
      },
      "source": [
        "train_data['cabin_adv'].value_counts()"
      ],
      "execution_count": 20,
      "outputs": [
        {
          "output_type": "execute_result",
          "data": {
            "text/plain": [
              "n    687\n",
              "C     59\n",
              "B     47\n",
              "D     33\n",
              "E     32\n",
              "A     15\n",
              "F     13\n",
              "G      4\n",
              "T      1\n",
              "Name: cabin_adv, dtype: int64"
            ]
          },
          "metadata": {},
          "execution_count": 20
        }
      ]
    },
    {
      "cell_type": "code",
      "metadata": {
        "execution": {
          "iopub.status.busy": "2021-10-07T10:13:00.627111Z",
          "iopub.execute_input": "2021-10-07T10:13:00.627318Z",
          "iopub.status.idle": "2021-10-07T10:13:00.654515Z",
          "shell.execute_reply.started": "2021-10-07T10:13:00.627295Z",
          "shell.execute_reply": "2021-10-07T10:13:00.653711Z"
        },
        "trusted": true,
        "colab": {
          "base_uri": "https://localhost:8080/",
          "height": 142
        },
        "id": "qIatkoVvRPBp",
        "outputId": "7a188078-7eca-4a5d-ae68-0c288b026caa"
      },
      "source": [
        "pd.pivot_table(train_data, index = 'Survived', columns ='cabin_adv', values = 'Name', aggfunc = 'count')"
      ],
      "execution_count": 21,
      "outputs": [
        {
          "output_type": "execute_result",
          "data": {
            "text/html": [
              "<div>\n",
              "<style scoped>\n",
              "    .dataframe tbody tr th:only-of-type {\n",
              "        vertical-align: middle;\n",
              "    }\n",
              "\n",
              "    .dataframe tbody tr th {\n",
              "        vertical-align: top;\n",
              "    }\n",
              "\n",
              "    .dataframe thead th {\n",
              "        text-align: right;\n",
              "    }\n",
              "</style>\n",
              "<table border=\"1\" class=\"dataframe\">\n",
              "  <thead>\n",
              "    <tr style=\"text-align: right;\">\n",
              "      <th>cabin_adv</th>\n",
              "      <th>A</th>\n",
              "      <th>B</th>\n",
              "      <th>C</th>\n",
              "      <th>D</th>\n",
              "      <th>E</th>\n",
              "      <th>F</th>\n",
              "      <th>G</th>\n",
              "      <th>T</th>\n",
              "      <th>n</th>\n",
              "    </tr>\n",
              "    <tr>\n",
              "      <th>Survived</th>\n",
              "      <th></th>\n",
              "      <th></th>\n",
              "      <th></th>\n",
              "      <th></th>\n",
              "      <th></th>\n",
              "      <th></th>\n",
              "      <th></th>\n",
              "      <th></th>\n",
              "      <th></th>\n",
              "    </tr>\n",
              "  </thead>\n",
              "  <tbody>\n",
              "    <tr>\n",
              "      <th>0</th>\n",
              "      <td>8.0</td>\n",
              "      <td>12.0</td>\n",
              "      <td>24.0</td>\n",
              "      <td>8.0</td>\n",
              "      <td>8.0</td>\n",
              "      <td>5.0</td>\n",
              "      <td>2.0</td>\n",
              "      <td>1.0</td>\n",
              "      <td>481.0</td>\n",
              "    </tr>\n",
              "    <tr>\n",
              "      <th>1</th>\n",
              "      <td>7.0</td>\n",
              "      <td>35.0</td>\n",
              "      <td>35.0</td>\n",
              "      <td>25.0</td>\n",
              "      <td>24.0</td>\n",
              "      <td>8.0</td>\n",
              "      <td>2.0</td>\n",
              "      <td>NaN</td>\n",
              "      <td>206.0</td>\n",
              "    </tr>\n",
              "  </tbody>\n",
              "</table>\n",
              "</div>"
            ],
            "text/plain": [
              "cabin_adv    A     B     C     D     E    F    G    T      n\n",
              "Survived                                                    \n",
              "0          8.0  12.0  24.0   8.0   8.0  5.0  2.0  1.0  481.0\n",
              "1          7.0  35.0  35.0  25.0  24.0  8.0  2.0  NaN  206.0"
            ]
          },
          "metadata": {},
          "execution_count": 21
        }
      ]
    },
    {
      "cell_type": "markdown",
      "metadata": {
        "id": "-JeMknJdRPBp"
      },
      "source": [
        "We notice cabins B, C, D and E had better survival rate"
      ]
    },
    {
      "cell_type": "code",
      "metadata": {
        "execution": {
          "iopub.status.busy": "2021-10-07T10:13:00.656401Z",
          "iopub.execute_input": "2021-10-07T10:13:00.656624Z",
          "iopub.status.idle": "2021-10-07T10:13:00.665773Z",
          "shell.execute_reply.started": "2021-10-07T10:13:00.656599Z",
          "shell.execute_reply": "2021-10-07T10:13:00.664852Z"
        },
        "trusted": true,
        "id": "wye7qnGrRPBq"
      },
      "source": [
        "# Understand ticket values better since there were around 700 unique values for them\n",
        "# numeric vs non numeric\n",
        "train_data['numeric_ticket'] = train_data.Ticket.apply(lambda x : 1 if x.isnumeric() else 0)\n",
        "train_data['ticket_letters'] = train_data.Ticket.apply(lambda x : ''.join(x.split(' ')[:-1]).replace('.','').replace('/','').lower() if len(x.split(' ')[:-1])>0 else 0)"
      ],
      "execution_count": 22,
      "outputs": []
    },
    {
      "cell_type": "code",
      "metadata": {
        "execution": {
          "iopub.status.busy": "2021-10-07T10:13:00.667343Z",
          "iopub.execute_input": "2021-10-07T10:13:00.66776Z",
          "iopub.status.idle": "2021-10-07T10:13:00.686629Z",
          "shell.execute_reply.started": "2021-10-07T10:13:00.667706Z",
          "shell.execute_reply": "2021-10-07T10:13:00.685926Z"
        },
        "trusted": true,
        "colab": {
          "base_uri": "https://localhost:8080/"
        },
        "id": "yvELNVdyRPBq",
        "outputId": "40317d79-6b76-4c4c-97c6-14f9101febaf"
      },
      "source": [
        "train_data['numeric_ticket'].value_counts()"
      ],
      "execution_count": 23,
      "outputs": [
        {
          "output_type": "execute_result",
          "data": {
            "text/plain": [
              "1    661\n",
              "0    230\n",
              "Name: numeric_ticket, dtype: int64"
            ]
          },
          "metadata": {},
          "execution_count": 23
        }
      ]
    },
    {
      "cell_type": "code",
      "metadata": {
        "execution": {
          "iopub.status.busy": "2021-10-07T10:13:00.689131Z",
          "iopub.execute_input": "2021-10-07T10:13:00.689359Z",
          "iopub.status.idle": "2021-10-07T10:13:00.700246Z",
          "shell.execute_reply.started": "2021-10-07T10:13:00.689333Z",
          "shell.execute_reply": "2021-10-07T10:13:00.699221Z"
        },
        "trusted": true,
        "colab": {
          "base_uri": "https://localhost:8080/"
        },
        "id": "SWXahjLkRPBq",
        "outputId": "1eacd4b7-8889-487d-c409-7a2b571f0270"
      },
      "source": [
        "# Viewing all the rows in the dataframe through scrolling for our convenience\n",
        "pd.set_option('max_rows', None)\n",
        "train_data['ticket_letters'].value_counts()"
      ],
      "execution_count": 24,
      "outputs": [
        {
          "output_type": "execute_result",
          "data": {
            "text/plain": [
              "0            665\n",
              "pc            60\n",
              "ca            41\n",
              "a5            21\n",
              "stono2        18\n",
              "sotonoq       15\n",
              "scparis       11\n",
              "wc            10\n",
              "a4             7\n",
              "soc            6\n",
              "fcc            5\n",
              "c              5\n",
              "wep            3\n",
              "pp             3\n",
              "sopp           3\n",
              "ppp            2\n",
              "scah           2\n",
              "sotono2        2\n",
              "swpp           2\n",
              "as             1\n",
              "sc             1\n",
              "scow           1\n",
              "scahbasle      1\n",
              "casoton        1\n",
              "fc             1\n",
              "sop            1\n",
              "sp             1\n",
              "fa             1\n",
              "sca4           1\n",
              "Name: ticket_letters, dtype: int64"
            ]
          },
          "metadata": {},
          "execution_count": 24
        }
      ]
    },
    {
      "cell_type": "markdown",
      "metadata": {
        "id": "F9FiecazRPBq"
      },
      "source": [
        "The ticket naming conventions don't seem to provide too much information"
      ]
    },
    {
      "cell_type": "code",
      "metadata": {
        "execution": {
          "iopub.status.busy": "2021-10-07T10:13:00.701452Z",
          "iopub.execute_input": "2021-10-07T10:13:00.70174Z",
          "iopub.status.idle": "2021-10-07T10:13:00.729838Z",
          "shell.execute_reply.started": "2021-10-07T10:13:00.701703Z",
          "shell.execute_reply": "2021-10-07T10:13:00.728941Z"
        },
        "trusted": true,
        "colab": {
          "base_uri": "https://localhost:8080/",
          "height": 142
        },
        "id": "Ev_p-wJ0RPBq",
        "outputId": "c7a9f5a7-cc87-4f10-ea72-5b6a7fb8ec29"
      },
      "source": [
        "# difference in numeric vs non-numeric tickets in survival rate\n",
        "pd.pivot_table(train_data, index ='Survived', columns = 'numeric_ticket', values = 'Ticket', aggfunc = 'count')"
      ],
      "execution_count": 25,
      "outputs": [
        {
          "output_type": "execute_result",
          "data": {
            "text/html": [
              "<div>\n",
              "<style scoped>\n",
              "    .dataframe tbody tr th:only-of-type {\n",
              "        vertical-align: middle;\n",
              "    }\n",
              "\n",
              "    .dataframe tbody tr th {\n",
              "        vertical-align: top;\n",
              "    }\n",
              "\n",
              "    .dataframe thead th {\n",
              "        text-align: right;\n",
              "    }\n",
              "</style>\n",
              "<table border=\"1\" class=\"dataframe\">\n",
              "  <thead>\n",
              "    <tr style=\"text-align: right;\">\n",
              "      <th>numeric_ticket</th>\n",
              "      <th>0</th>\n",
              "      <th>1</th>\n",
              "    </tr>\n",
              "    <tr>\n",
              "      <th>Survived</th>\n",
              "      <th></th>\n",
              "      <th></th>\n",
              "    </tr>\n",
              "  </thead>\n",
              "  <tbody>\n",
              "    <tr>\n",
              "      <th>0</th>\n",
              "      <td>142</td>\n",
              "      <td>407</td>\n",
              "    </tr>\n",
              "    <tr>\n",
              "      <th>1</th>\n",
              "      <td>88</td>\n",
              "      <td>254</td>\n",
              "    </tr>\n",
              "  </tbody>\n",
              "</table>\n",
              "</div>"
            ],
            "text/plain": [
              "numeric_ticket    0    1\n",
              "Survived                \n",
              "0               142  407\n",
              "1                88  254"
            ]
          },
          "metadata": {},
          "execution_count": 25
        }
      ]
    },
    {
      "cell_type": "markdown",
      "metadata": {
        "id": "CSTR5m96RPBq"
      },
      "source": [
        "The survival rate ratios for numeric tickets seem pretty similar, so we can ignore the fact that it could have had any impact"
      ]
    },
    {
      "cell_type": "code",
      "metadata": {
        "execution": {
          "iopub.status.busy": "2021-10-07T10:13:00.732247Z",
          "iopub.execute_input": "2021-10-07T10:13:00.73262Z",
          "iopub.status.idle": "2021-10-07T10:13:00.770003Z",
          "shell.execute_reply.started": "2021-10-07T10:13:00.732581Z",
          "shell.execute_reply": "2021-10-07T10:13:00.769155Z"
        },
        "trusted": true,
        "colab": {
          "base_uri": "https://localhost:8080/",
          "height": 162
        },
        "id": "UgUbeED_RPBr",
        "outputId": "55a2b603-c02c-4fff-9e6c-369302e9ec87"
      },
      "source": [
        "# difference in ticket types\n",
        "pd.pivot_table(train_data, index ='Survived', columns = 'ticket_letters', values = 'Ticket', aggfunc = 'count')"
      ],
      "execution_count": 26,
      "outputs": [
        {
          "output_type": "execute_result",
          "data": {
            "text/html": [
              "<div>\n",
              "<style scoped>\n",
              "    .dataframe tbody tr th:only-of-type {\n",
              "        vertical-align: middle;\n",
              "    }\n",
              "\n",
              "    .dataframe tbody tr th {\n",
              "        vertical-align: top;\n",
              "    }\n",
              "\n",
              "    .dataframe thead th {\n",
              "        text-align: right;\n",
              "    }\n",
              "</style>\n",
              "<table border=\"1\" class=\"dataframe\">\n",
              "  <thead>\n",
              "    <tr style=\"text-align: right;\">\n",
              "      <th>ticket_letters</th>\n",
              "      <th>0</th>\n",
              "      <th>a4</th>\n",
              "      <th>a5</th>\n",
              "      <th>as</th>\n",
              "      <th>c</th>\n",
              "      <th>ca</th>\n",
              "      <th>casoton</th>\n",
              "      <th>fa</th>\n",
              "      <th>fc</th>\n",
              "      <th>fcc</th>\n",
              "      <th>pc</th>\n",
              "      <th>pp</th>\n",
              "      <th>ppp</th>\n",
              "      <th>sc</th>\n",
              "      <th>sca4</th>\n",
              "      <th>scah</th>\n",
              "      <th>scahbasle</th>\n",
              "      <th>scow</th>\n",
              "      <th>scparis</th>\n",
              "      <th>soc</th>\n",
              "      <th>sop</th>\n",
              "      <th>sopp</th>\n",
              "      <th>sotono2</th>\n",
              "      <th>sotonoq</th>\n",
              "      <th>sp</th>\n",
              "      <th>stono2</th>\n",
              "      <th>swpp</th>\n",
              "      <th>wc</th>\n",
              "      <th>wep</th>\n",
              "    </tr>\n",
              "    <tr>\n",
              "      <th>Survived</th>\n",
              "      <th></th>\n",
              "      <th></th>\n",
              "      <th></th>\n",
              "      <th></th>\n",
              "      <th></th>\n",
              "      <th></th>\n",
              "      <th></th>\n",
              "      <th></th>\n",
              "      <th></th>\n",
              "      <th></th>\n",
              "      <th></th>\n",
              "      <th></th>\n",
              "      <th></th>\n",
              "      <th></th>\n",
              "      <th></th>\n",
              "      <th></th>\n",
              "      <th></th>\n",
              "      <th></th>\n",
              "      <th></th>\n",
              "      <th></th>\n",
              "      <th></th>\n",
              "      <th></th>\n",
              "      <th></th>\n",
              "      <th></th>\n",
              "      <th></th>\n",
              "      <th></th>\n",
              "      <th></th>\n",
              "      <th></th>\n",
              "      <th></th>\n",
              "    </tr>\n",
              "  </thead>\n",
              "  <tbody>\n",
              "    <tr>\n",
              "      <th>0</th>\n",
              "      <td>410.0</td>\n",
              "      <td>7.0</td>\n",
              "      <td>19.0</td>\n",
              "      <td>1.0</td>\n",
              "      <td>3.0</td>\n",
              "      <td>27.0</td>\n",
              "      <td>1.0</td>\n",
              "      <td>1.0</td>\n",
              "      <td>1.0</td>\n",
              "      <td>1.0</td>\n",
              "      <td>21.0</td>\n",
              "      <td>1.0</td>\n",
              "      <td>1.0</td>\n",
              "      <td>NaN</td>\n",
              "      <td>1.0</td>\n",
              "      <td>1.0</td>\n",
              "      <td>NaN</td>\n",
              "      <td>1.0</td>\n",
              "      <td>6.0</td>\n",
              "      <td>5.0</td>\n",
              "      <td>1.0</td>\n",
              "      <td>3.0</td>\n",
              "      <td>2.0</td>\n",
              "      <td>13.0</td>\n",
              "      <td>1.0</td>\n",
              "      <td>10.0</td>\n",
              "      <td>NaN</td>\n",
              "      <td>9.0</td>\n",
              "      <td>2.0</td>\n",
              "    </tr>\n",
              "    <tr>\n",
              "      <th>1</th>\n",
              "      <td>255.0</td>\n",
              "      <td>NaN</td>\n",
              "      <td>2.0</td>\n",
              "      <td>NaN</td>\n",
              "      <td>2.0</td>\n",
              "      <td>14.0</td>\n",
              "      <td>NaN</td>\n",
              "      <td>NaN</td>\n",
              "      <td>NaN</td>\n",
              "      <td>4.0</td>\n",
              "      <td>39.0</td>\n",
              "      <td>2.0</td>\n",
              "      <td>1.0</td>\n",
              "      <td>1.0</td>\n",
              "      <td>NaN</td>\n",
              "      <td>1.0</td>\n",
              "      <td>1.0</td>\n",
              "      <td>NaN</td>\n",
              "      <td>5.0</td>\n",
              "      <td>1.0</td>\n",
              "      <td>NaN</td>\n",
              "      <td>NaN</td>\n",
              "      <td>NaN</td>\n",
              "      <td>2.0</td>\n",
              "      <td>NaN</td>\n",
              "      <td>8.0</td>\n",
              "      <td>2.0</td>\n",
              "      <td>1.0</td>\n",
              "      <td>1.0</td>\n",
              "    </tr>\n",
              "  </tbody>\n",
              "</table>\n",
              "</div>"
            ],
            "text/plain": [
              "ticket_letters      0   a4    a5   as    c  ...   sp  stono2  swpp   wc  wep\n",
              "Survived                                    ...                             \n",
              "0               410.0  7.0  19.0  1.0  3.0  ...  1.0    10.0   NaN  9.0  2.0\n",
              "1               255.0  NaN   2.0  NaN  2.0  ...  NaN     8.0   2.0  1.0  1.0\n",
              "\n",
              "[2 rows x 29 columns]"
            ]
          },
          "metadata": {},
          "execution_count": 26
        }
      ]
    },
    {
      "cell_type": "markdown",
      "metadata": {
        "id": "OvhQYvRQRPBr"
      },
      "source": [
        "Thought it doesn't provide much value, we could use it with algorithms like decision trees or random forests since they split based on most impactful variable. So even if it doesn't have much value it probably won't include it at all."
      ]
    },
    {
      "cell_type": "code",
      "metadata": {
        "execution": {
          "iopub.status.busy": "2021-10-07T10:13:00.772109Z",
          "iopub.execute_input": "2021-10-07T10:13:00.772339Z",
          "iopub.status.idle": "2021-10-07T10:13:00.779464Z",
          "shell.execute_reply.started": "2021-10-07T10:13:00.772313Z",
          "shell.execute_reply": "2021-10-07T10:13:00.778879Z"
        },
        "trusted": true,
        "id": "R7NAlU_RRPBr"
      },
      "source": [
        "# Feature engineering on a person's title\n",
        "train_data['name_title'] = train_data.Name.apply(lambda x : x.split(',')[1].split('.')[0].strip())\n",
        "# mr, mrs, ms, master etc."
      ],
      "execution_count": 27,
      "outputs": []
    },
    {
      "cell_type": "code",
      "metadata": {
        "execution": {
          "iopub.status.busy": "2021-10-07T10:13:00.781298Z",
          "iopub.execute_input": "2021-10-07T10:13:00.781721Z",
          "iopub.status.idle": "2021-10-07T10:13:00.795674Z",
          "shell.execute_reply.started": "2021-10-07T10:13:00.781684Z",
          "shell.execute_reply": "2021-10-07T10:13:00.794415Z"
        },
        "trusted": true,
        "colab": {
          "base_uri": "https://localhost:8080/"
        },
        "id": "voJBTwc-RPBr",
        "outputId": "c330041a-5733-495a-f4b5-5cc3af2f68f3"
      },
      "source": [
        "train_data['name_title'].value_counts()"
      ],
      "execution_count": 28,
      "outputs": [
        {
          "output_type": "execute_result",
          "data": {
            "text/plain": [
              "Mr              517\n",
              "Miss            182\n",
              "Mrs             125\n",
              "Master           40\n",
              "Dr                7\n",
              "Rev               6\n",
              "Major             2\n",
              "Mlle              2\n",
              "Col               2\n",
              "Mme               1\n",
              "the Countess      1\n",
              "Sir               1\n",
              "Jonkheer          1\n",
              "Ms                1\n",
              "Don               1\n",
              "Capt              1\n",
              "Lady              1\n",
              "Name: name_title, dtype: int64"
            ]
          },
          "metadata": {},
          "execution_count": 28
        }
      ]
    },
    {
      "cell_type": "markdown",
      "metadata": {
        "id": "UWRPQyKvRPBr"
      },
      "source": [
        ""
      ]
    },
    {
      "cell_type": "code",
      "metadata": {
        "execution": {
          "iopub.status.busy": "2021-10-07T10:13:00.797212Z",
          "iopub.execute_input": "2021-10-07T10:13:00.798322Z",
          "iopub.status.idle": "2021-10-07T10:13:00.833474Z",
          "shell.execute_reply.started": "2021-10-07T10:13:00.798276Z",
          "shell.execute_reply": "2021-10-07T10:13:00.832513Z"
        },
        "trusted": true,
        "colab": {
          "base_uri": "https://localhost:8080/",
          "height": 179
        },
        "id": "2Z1IyDvZRPBr",
        "outputId": "6b0a8659-36ed-450d-c038-c17663861211"
      },
      "source": [
        "pd.set_option('max_column', None)\n",
        "pd.pivot_table(train_data, index = 'Survived', columns = 'name_title', values = 'Ticket',aggfunc = 'count')"
      ],
      "execution_count": 29,
      "outputs": [
        {
          "output_type": "execute_result",
          "data": {
            "text/html": [
              "<div>\n",
              "<style scoped>\n",
              "    .dataframe tbody tr th:only-of-type {\n",
              "        vertical-align: middle;\n",
              "    }\n",
              "\n",
              "    .dataframe tbody tr th {\n",
              "        vertical-align: top;\n",
              "    }\n",
              "\n",
              "    .dataframe thead th {\n",
              "        text-align: right;\n",
              "    }\n",
              "</style>\n",
              "<table border=\"1\" class=\"dataframe\">\n",
              "  <thead>\n",
              "    <tr style=\"text-align: right;\">\n",
              "      <th>name_title</th>\n",
              "      <th>Capt</th>\n",
              "      <th>Col</th>\n",
              "      <th>Don</th>\n",
              "      <th>Dr</th>\n",
              "      <th>Jonkheer</th>\n",
              "      <th>Lady</th>\n",
              "      <th>Major</th>\n",
              "      <th>Master</th>\n",
              "      <th>Miss</th>\n",
              "      <th>Mlle</th>\n",
              "      <th>Mme</th>\n",
              "      <th>Mr</th>\n",
              "      <th>Mrs</th>\n",
              "      <th>Ms</th>\n",
              "      <th>Rev</th>\n",
              "      <th>Sir</th>\n",
              "      <th>the Countess</th>\n",
              "    </tr>\n",
              "    <tr>\n",
              "      <th>Survived</th>\n",
              "      <th></th>\n",
              "      <th></th>\n",
              "      <th></th>\n",
              "      <th></th>\n",
              "      <th></th>\n",
              "      <th></th>\n",
              "      <th></th>\n",
              "      <th></th>\n",
              "      <th></th>\n",
              "      <th></th>\n",
              "      <th></th>\n",
              "      <th></th>\n",
              "      <th></th>\n",
              "      <th></th>\n",
              "      <th></th>\n",
              "      <th></th>\n",
              "      <th></th>\n",
              "    </tr>\n",
              "  </thead>\n",
              "  <tbody>\n",
              "    <tr>\n",
              "      <th>0</th>\n",
              "      <td>1.0</td>\n",
              "      <td>1.0</td>\n",
              "      <td>1.0</td>\n",
              "      <td>4.0</td>\n",
              "      <td>1.0</td>\n",
              "      <td>NaN</td>\n",
              "      <td>1.0</td>\n",
              "      <td>17.0</td>\n",
              "      <td>55.0</td>\n",
              "      <td>NaN</td>\n",
              "      <td>NaN</td>\n",
              "      <td>436.0</td>\n",
              "      <td>26.0</td>\n",
              "      <td>NaN</td>\n",
              "      <td>6.0</td>\n",
              "      <td>NaN</td>\n",
              "      <td>NaN</td>\n",
              "    </tr>\n",
              "    <tr>\n",
              "      <th>1</th>\n",
              "      <td>NaN</td>\n",
              "      <td>1.0</td>\n",
              "      <td>NaN</td>\n",
              "      <td>3.0</td>\n",
              "      <td>NaN</td>\n",
              "      <td>1.0</td>\n",
              "      <td>1.0</td>\n",
              "      <td>23.0</td>\n",
              "      <td>127.0</td>\n",
              "      <td>2.0</td>\n",
              "      <td>1.0</td>\n",
              "      <td>81.0</td>\n",
              "      <td>99.0</td>\n",
              "      <td>1.0</td>\n",
              "      <td>NaN</td>\n",
              "      <td>1.0</td>\n",
              "      <td>1.0</td>\n",
              "    </tr>\n",
              "  </tbody>\n",
              "</table>\n",
              "</div>"
            ],
            "text/plain": [
              "name_title  Capt  Col  Don   Dr  Jonkheer  Lady  Major  Master   Miss  Mlle  \\\n",
              "Survived                                                                      \n",
              "0            1.0  1.0  1.0  4.0       1.0   NaN    1.0    17.0   55.0   NaN   \n",
              "1            NaN  1.0  NaN  3.0       NaN   1.0    1.0    23.0  127.0   2.0   \n",
              "\n",
              "name_title  Mme     Mr   Mrs   Ms  Rev  Sir  the Countess  \n",
              "Survived                                                   \n",
              "0           NaN  436.0  26.0  NaN  6.0  NaN           NaN  \n",
              "1           1.0   81.0  99.0  1.0  NaN  1.0           1.0  "
            ]
          },
          "metadata": {},
          "execution_count": 29
        }
      ]
    },
    {
      "cell_type": "markdown",
      "metadata": {
        "id": "qhfAkfqdRPBs"
      },
      "source": [
        "Data processing for the model\n",
        "\n",
        "1. Drop values from embarked (only 2)\n",
        "\n",
        "2. Inclued only relevant variables, since we have limited data, leave out things like name, id\n",
        "\n",
        "3. Do categorical transforms on all data, usually we would use a transformer but with this approach we can ensure that the training and test data have the same columns. We also may be able to infer something about the shape of the test data through this method. Use of one hot encoder is generally not recommended.\n",
        "\n",
        "4. Impute data with mean for fare and age (Should also experiment with median) \n",
        "\n",
        "5. Normalize fare using logarithm to give more semblance of a normal distribution\n",
        "\n",
        "6. Scaled data 0-1 with standard scaler"
      ]
    },
    {
      "cell_type": "code",
      "metadata": {
        "execution": {
          "iopub.status.busy": "2021-10-07T10:13:00.834836Z",
          "iopub.execute_input": "2021-10-07T10:13:00.835078Z",
          "iopub.status.idle": "2021-10-07T10:13:00.853566Z",
          "shell.execute_reply.started": "2021-10-07T10:13:00.835052Z",
          "shell.execute_reply": "2021-10-07T10:13:00.852311Z"
        },
        "trusted": true,
        "colab": {
          "base_uri": "https://localhost:8080/",
          "height": 476
        },
        "id": "kQ8XooGRRPBs",
        "outputId": "6ba595e7-1695-4d91-fd28-c1162e3fd1af"
      },
      "source": [
        "all_data.head()"
      ],
      "execution_count": 30,
      "outputs": [
        {
          "output_type": "execute_result",
          "data": {
            "text/html": [
              "<div>\n",
              "<style scoped>\n",
              "    .dataframe tbody tr th:only-of-type {\n",
              "        vertical-align: middle;\n",
              "    }\n",
              "\n",
              "    .dataframe tbody tr th {\n",
              "        vertical-align: top;\n",
              "    }\n",
              "\n",
              "    .dataframe thead th {\n",
              "        text-align: right;\n",
              "    }\n",
              "</style>\n",
              "<table border=\"1\" class=\"dataframe\">\n",
              "  <thead>\n",
              "    <tr style=\"text-align: right;\">\n",
              "      <th></th>\n",
              "      <th>PassengerId</th>\n",
              "      <th>Survived</th>\n",
              "      <th>Pclass</th>\n",
              "      <th>Name</th>\n",
              "      <th>Sex</th>\n",
              "      <th>Age</th>\n",
              "      <th>SibSp</th>\n",
              "      <th>Parch</th>\n",
              "      <th>Ticket</th>\n",
              "      <th>Fare</th>\n",
              "      <th>Cabin</th>\n",
              "      <th>Embarked</th>\n",
              "      <th>train_test</th>\n",
              "    </tr>\n",
              "  </thead>\n",
              "  <tbody>\n",
              "    <tr>\n",
              "      <th>0</th>\n",
              "      <td>1</td>\n",
              "      <td>0.0</td>\n",
              "      <td>3</td>\n",
              "      <td>Braund, Mr. Owen Harris</td>\n",
              "      <td>male</td>\n",
              "      <td>22.0</td>\n",
              "      <td>1</td>\n",
              "      <td>0</td>\n",
              "      <td>A/5 21171</td>\n",
              "      <td>7.2500</td>\n",
              "      <td>NaN</td>\n",
              "      <td>S</td>\n",
              "      <td>1</td>\n",
              "    </tr>\n",
              "    <tr>\n",
              "      <th>1</th>\n",
              "      <td>2</td>\n",
              "      <td>1.0</td>\n",
              "      <td>1</td>\n",
              "      <td>Cumings, Mrs. John Bradley (Florence Briggs Th...</td>\n",
              "      <td>female</td>\n",
              "      <td>38.0</td>\n",
              "      <td>1</td>\n",
              "      <td>0</td>\n",
              "      <td>PC 17599</td>\n",
              "      <td>71.2833</td>\n",
              "      <td>C85</td>\n",
              "      <td>C</td>\n",
              "      <td>1</td>\n",
              "    </tr>\n",
              "    <tr>\n",
              "      <th>2</th>\n",
              "      <td>3</td>\n",
              "      <td>1.0</td>\n",
              "      <td>3</td>\n",
              "      <td>Heikkinen, Miss. Laina</td>\n",
              "      <td>female</td>\n",
              "      <td>26.0</td>\n",
              "      <td>0</td>\n",
              "      <td>0</td>\n",
              "      <td>STON/O2. 3101282</td>\n",
              "      <td>7.9250</td>\n",
              "      <td>NaN</td>\n",
              "      <td>S</td>\n",
              "      <td>1</td>\n",
              "    </tr>\n",
              "    <tr>\n",
              "      <th>3</th>\n",
              "      <td>4</td>\n",
              "      <td>1.0</td>\n",
              "      <td>1</td>\n",
              "      <td>Futrelle, Mrs. Jacques Heath (Lily May Peel)</td>\n",
              "      <td>female</td>\n",
              "      <td>35.0</td>\n",
              "      <td>1</td>\n",
              "      <td>0</td>\n",
              "      <td>113803</td>\n",
              "      <td>53.1000</td>\n",
              "      <td>C123</td>\n",
              "      <td>S</td>\n",
              "      <td>1</td>\n",
              "    </tr>\n",
              "    <tr>\n",
              "      <th>4</th>\n",
              "      <td>5</td>\n",
              "      <td>0.0</td>\n",
              "      <td>3</td>\n",
              "      <td>Allen, Mr. William Henry</td>\n",
              "      <td>male</td>\n",
              "      <td>35.0</td>\n",
              "      <td>0</td>\n",
              "      <td>0</td>\n",
              "      <td>373450</td>\n",
              "      <td>8.0500</td>\n",
              "      <td>NaN</td>\n",
              "      <td>S</td>\n",
              "      <td>1</td>\n",
              "    </tr>\n",
              "  </tbody>\n",
              "</table>\n",
              "</div>"
            ],
            "text/plain": [
              "   PassengerId  Survived  Pclass  \\\n",
              "0            1       0.0       3   \n",
              "1            2       1.0       1   \n",
              "2            3       1.0       3   \n",
              "3            4       1.0       1   \n",
              "4            5       0.0       3   \n",
              "\n",
              "                                                Name     Sex   Age  SibSp  \\\n",
              "0                            Braund, Mr. Owen Harris    male  22.0      1   \n",
              "1  Cumings, Mrs. John Bradley (Florence Briggs Th...  female  38.0      1   \n",
              "2                             Heikkinen, Miss. Laina  female  26.0      0   \n",
              "3       Futrelle, Mrs. Jacques Heath (Lily May Peel)  female  35.0      1   \n",
              "4                           Allen, Mr. William Henry    male  35.0      0   \n",
              "\n",
              "   Parch            Ticket     Fare Cabin Embarked  train_test  \n",
              "0      0         A/5 21171   7.2500   NaN        S           1  \n",
              "1      0          PC 17599  71.2833   C85        C           1  \n",
              "2      0  STON/O2. 3101282   7.9250   NaN        S           1  \n",
              "3      0            113803  53.1000  C123        S           1  \n",
              "4      0            373450   8.0500   NaN        S           1  "
            ]
          },
          "metadata": {},
          "execution_count": 30
        }
      ]
    },
    {
      "cell_type": "code",
      "metadata": {
        "execution": {
          "iopub.status.busy": "2021-10-07T10:13:00.855289Z",
          "iopub.execute_input": "2021-10-07T10:13:00.855516Z",
          "iopub.status.idle": "2021-10-07T10:13:01.136882Z",
          "shell.execute_reply.started": "2021-10-07T10:13:00.855493Z",
          "shell.execute_reply": "2021-10-07T10:13:01.136095Z"
        },
        "trusted": true,
        "colab": {
          "base_uri": "https://localhost:8080/",
          "height": 282
        },
        "id": "dFGM1w9nRPBs",
        "outputId": "14b8c3ce-c898-4fac-f155-c4f2047b13fe"
      },
      "source": [
        "# Create all categorical values as done above for both train and test data\n",
        "all_data['cabin_multiple'] = all_data.Cabin.apply(lambda x : 0 if pd.isna(x) else len(x.split(' ')))\n",
        "all_data['cabin_adv'] = all_data.Cabin.apply(lambda x : str(x)[0])\n",
        "all_data['numeric_ticket'] = all_data.Ticket.apply(lambda x : 1 if x.isnumeric() else 0)\n",
        "all_data['ticket_letters'] = all_data.Ticket.apply(lambda x : ''.join(x.split(' ')[:-1]).replace('.','').replace('/','').lower() if len(x.split(' ')[:-1])>0 else 0)\n",
        "all_data['name_title'] = all_data.Name.apply(lambda x : x.split(',')[1].split('.')[0].strip())\n",
        "\n",
        "# Impute nulls for continous data\n",
        "all_data.Age = all_data.Age.fillna(train_data.Age.mean())\n",
        "# For fare we use the median if it is not normally distributed, however we use mean anyway in this case even though it is not normally distributed\n",
        "all_data.Fare = all_data.Age.fillna(train_data.Fare.mean())\n",
        "\n",
        "# Drop null values on 'Embakred'. Only 2 instances of this in train and 0 in test\n",
        "all_data.dropna(subset = ['Embarked'], inplace = True)\n",
        "\n",
        "# Trial of log norm of sibsp (not used)\n",
        "all_data['norm_sibsp'] = np.log(all_data.SibSp+1)\n",
        "all_data['norm_sibsp'].hist()\n",
        "\n",
        "# log norm of Fare (used)\n",
        "all_data['norm_fare'] = np.log(all_data.Fare+1)\n",
        "all_data['norm_fare'].hist()\n",
        "\n",
        "# Converted fare to categiry for pd.get_dummies()\n",
        "all_data.Pclass = all_data.Pclass.astype(str)\n",
        "\n",
        "# Created dummy variables from categories (also can use OneHotEncoder)\n",
        "all_dummies = pd.get_dummies(all_data[['Pclass', 'Sex', 'Age', 'SibSp', 'Parch', 'norm_fare', 'Embarked', 'cabin_adv', 'cabin_multiple',\n",
        "                                      'numeric_ticket', 'name_title', 'train_test']])\n",
        "\n",
        "# Split to train test again\n",
        "X_train = all_dummies[all_dummies.train_test == 1].drop(['train_test'], axis = 1)\n",
        "X_test = all_dummies[all_dummies.train_test == 0].drop(['train_test'], axis = 1)\n",
        "\n",
        "y_train = all_data[all_data.train_test == 1].Survived\n",
        "y_train.shape"
      ],
      "execution_count": 31,
      "outputs": [
        {
          "output_type": "execute_result",
          "data": {
            "text/plain": [
              "(889,)"
            ]
          },
          "metadata": {},
          "execution_count": 31
        },
        {
          "output_type": "display_data",
          "data": {
            "image/png": "[encoded data removed]",
            "text/plain": [
              "<Figure size 432x288 with 1 Axes>"
            ]
          },
          "metadata": {
            "needs_background": "light"
          }
        }
      ]
    },
    {
      "cell_type": "markdown",
      "metadata": {
        "id": "VcLNxaQ9RPBt"
      },
      "source": [
        ""
      ]
    },
    {
      "cell_type": "code",
      "metadata": {
        "execution": {
          "iopub.status.busy": "2021-10-07T10:13:01.138874Z",
          "iopub.execute_input": "2021-10-07T10:13:01.140974Z",
          "iopub.status.idle": "2021-10-07T10:13:01.190859Z",
          "shell.execute_reply.started": "2021-10-07T10:13:01.140933Z",
          "shell.execute_reply": "2021-10-07T10:13:01.190095Z"
        },
        "trusted": true,
        "id": "ixTWwEK4RPBt"
      },
      "source": [
        "# Scale data\n",
        "from sklearn.preprocessing import StandardScaler\n",
        "scale = StandardScaler()\n",
        "all_dummies_scaled = all_dummies.copy()\n",
        "all_dummies_scaled[['Age', 'SibSp', 'Parch','norm_fare']] = scale.fit_transform(all_dummies_scaled[['Age','SibSp', 'Parch', 'norm_fare']])\n",
        "all_dummies_scaled\n",
        "\n",
        "X_train_scaled = all_dummies_scaled[all_dummies_scaled.train_test == 1].drop(['train_test'], axis = 1)\n",
        "X_test_scaled = all_dummies_scaled[all_dummies_scaled.train_test == 0].drop(['train_test'], axis = 1)\n",
        "\n",
        "y_train = all_data[all_data.train_test == 1].Survived                                                                    "
      ],
      "execution_count": 32,
      "outputs": []
    },
    {
      "cell_type": "markdown",
      "metadata": {
        "id": "sPyLXWLZRPBt"
      },
      "source": [
        "Trying out different models with default parameters, using 5 fold cross validation to get a baseline."
      ]
    },
    {
      "cell_type": "code",
      "metadata": {
        "execution": {
          "iopub.status.busy": "2021-10-07T10:13:01.192937Z",
          "iopub.execute_input": "2021-10-07T10:13:01.19326Z",
          "iopub.status.idle": "2021-10-07T10:13:01.26527Z",
          "shell.execute_reply.started": "2021-10-07T10:13:01.193196Z",
          "shell.execute_reply": "2021-10-07T10:13:01.264116Z"
        },
        "trusted": true,
        "id": "52tw67e1RPBu"
      },
      "source": [
        "from sklearn.model_selection import cross_val_score\n",
        "from sklearn.naive_bayes import GaussianNB\n",
        "from sklearn.linear_model import LogisticRegression\n",
        "from sklearn import tree\n",
        "from sklearn.neighbors import KNeighborsClassifier\n",
        "from sklearn.ensemble import RandomForestClassifier\n",
        "from sklearn.svm import SVC"
      ],
      "execution_count": 33,
      "outputs": []
    },
    {
      "cell_type": "code",
      "metadata": {
        "execution": {
          "iopub.status.busy": "2021-10-07T10:13:01.266528Z",
          "iopub.execute_input": "2021-10-07T10:13:01.266786Z",
          "iopub.status.idle": "2021-10-07T10:13:01.272034Z",
          "shell.execute_reply.started": "2021-10-07T10:13:01.26675Z",
          "shell.execute_reply": "2021-10-07T10:13:01.270857Z"
        },
        "trusted": true,
        "id": "gaMF-dQZRPBu"
      },
      "source": [
        "# Baseline mean scores from 5 as crossvalidation\n",
        "# Naive Bayes = 72.1\n",
        "# Logistic Regression = 82.4%\n",
        "# Decision Trees = 77.05%\n",
        "# K Nearest Neighbors = 81.32%\n",
        "# Random Forest = 80.02%\n",
        "# Support Vector Machine = 83.13%\n",
        "# Voting classifier (All models) = 81.2%"
      ],
      "execution_count": 34,
      "outputs": []
    },
    {
      "cell_type": "code",
      "metadata": {
        "execution": {
          "iopub.status.busy": "2021-10-07T10:13:01.273217Z",
          "iopub.execute_input": "2021-10-07T10:13:01.273434Z",
          "iopub.status.idle": "2021-10-07T10:13:01.318916Z",
          "shell.execute_reply.started": "2021-10-07T10:13:01.273409Z",
          "shell.execute_reply": "2021-10-07T10:13:01.317677Z"
        },
        "trusted": true,
        "colab": {
          "base_uri": "https://localhost:8080/"
        },
        "id": "2jRdGyuWRPBu",
        "outputId": "bc4f5ff0-7644-47dc-db32-98eb49500289"
      },
      "source": [
        "# Using Naive Bayes\n",
        "gnb = GaussianNB()\n",
        "cv = cross_val_score(gnb, X_train_scaled, y_train, cv = 5)\n",
        "print(cv)\n",
        "print(cv.mean())"
      ],
      "execution_count": 35,
      "outputs": [
        {
          "output_type": "stream",
          "name": "stdout",
          "text": [
            "[0.6741573  0.69101124 0.75842697 0.75280899 0.72881356]\n",
            "0.7210436107408112\n"
          ]
        }
      ]
    },
    {
      "cell_type": "code",
      "metadata": {
        "execution": {
          "iopub.status.busy": "2021-10-07T10:13:01.320174Z",
          "iopub.execute_input": "2021-10-07T10:13:01.32041Z",
          "iopub.status.idle": "2021-10-07T10:13:01.594333Z",
          "shell.execute_reply.started": "2021-10-07T10:13:01.32038Z",
          "shell.execute_reply": "2021-10-07T10:13:01.593527Z"
        },
        "trusted": true,
        "colab": {
          "base_uri": "https://localhost:8080/"
        },
        "id": "M5Dv4bx_RPBv",
        "outputId": "d8af7da6-2102-45bc-beb4-b71f26c9c170"
      },
      "source": [
        "# Logistic Regression\n",
        "lr = LogisticRegression(max_iter = 2000)\n",
        "cv = cross_val_score(lr, X_train_scaled, y_train, cv = 5)\n",
        "print(cv)\n",
        "print(cv.mean())"
      ],
      "execution_count": 36,
      "outputs": [
        {
          "output_type": "stream",
          "name": "stdout",
          "text": [
            "[0.79775281 0.81460674 0.8258427  0.81460674 0.85310734]\n",
            "0.8211832666793626\n"
          ]
        }
      ]
    },
    {
      "cell_type": "code",
      "metadata": {
        "execution": {
          "iopub.status.busy": "2021-10-07T10:13:01.595644Z",
          "iopub.execute_input": "2021-10-07T10:13:01.596169Z",
          "iopub.status.idle": "2021-10-07T10:13:03.360934Z",
          "shell.execute_reply.started": "2021-10-07T10:13:01.59613Z",
          "shell.execute_reply": "2021-10-07T10:13:03.360119Z"
        },
        "trusted": true,
        "colab": {
          "base_uri": "https://localhost:8080/"
        },
        "id": "k6F1etIXRPBv",
        "outputId": "6a47bca1-61e5-44aa-a6a8-fd0386576c18"
      },
      "source": [
        "lr = LogisticRegression(max_iter = 2000)\n",
        "cv = cross_val_score(lr, X_train, y_train, cv = 5)\n",
        "print(cv)\n",
        "print(cv.mean())"
      ],
      "execution_count": 37,
      "outputs": [
        {
          "output_type": "stream",
          "name": "stdout",
          "text": [
            "[0.80337079 0.81460674 0.8258427  0.82022472 0.85875706]\n",
            "0.8245604011934236\n"
          ]
        }
      ]
    },
    {
      "cell_type": "code",
      "metadata": {
        "execution": {
          "iopub.status.busy": "2021-10-07T10:13:03.362498Z",
          "iopub.execute_input": "2021-10-07T10:13:03.363042Z",
          "iopub.status.idle": "2021-10-07T10:13:03.440921Z",
          "shell.execute_reply.started": "2021-10-07T10:13:03.363Z",
          "shell.execute_reply": "2021-10-07T10:13:03.439915Z"
        },
        "trusted": true,
        "colab": {
          "base_uri": "https://localhost:8080/"
        },
        "id": "PtCeDKcERPBv",
        "outputId": "44d9d09f-1fb7-4b4a-a37b-0e16472e7d37"
      },
      "source": [
        "# Decision Trees\n",
        "dt = tree.DecisionTreeClassifier(random_state = 1)\n",
        "cv= cross_val_score(dt, X_train, y_train, cv =5)\n",
        "print(cv)\n",
        "print(cv.mean())"
      ],
      "execution_count": 38,
      "outputs": [
        {
          "output_type": "stream",
          "name": "stdout",
          "text": [
            "[0.7752809  0.7752809  0.80337079 0.73595506 0.76271186]\n",
            "0.7705199009712436\n"
          ]
        }
      ]
    },
    {
      "cell_type": "code",
      "metadata": {
        "execution": {
          "iopub.status.busy": "2021-10-07T10:13:03.443338Z",
          "iopub.execute_input": "2021-10-07T10:13:03.445116Z",
          "iopub.status.idle": "2021-10-07T10:13:03.506745Z",
          "shell.execute_reply.started": "2021-10-07T10:13:03.44506Z",
          "shell.execute_reply": "2021-10-07T10:13:03.506194Z"
        },
        "trusted": true,
        "colab": {
          "base_uri": "https://localhost:8080/"
        },
        "id": "43Vh3DeARPBv",
        "outputId": "3a45f24d-41c5-4674-998d-a3c96de04797"
      },
      "source": [
        "# Decision Trees\n",
        "dt = tree.DecisionTreeClassifier(random_state = 1)\n",
        "cv= cross_val_score(dt, X_train_scaled, y_train, cv =5)\n",
        "print(cv)\n",
        "print(cv.mean())"
      ],
      "execution_count": 39,
      "outputs": [
        {
          "output_type": "stream",
          "name": "stdout",
          "text": [
            "[0.7752809  0.7752809  0.80898876 0.73595506 0.75706215]\n",
            "0.7705135529740367\n"
          ]
        }
      ]
    },
    {
      "cell_type": "code",
      "metadata": {
        "execution": {
          "iopub.status.busy": "2021-10-07T10:13:03.50781Z",
          "iopub.execute_input": "2021-10-07T10:13:03.508217Z",
          "iopub.status.idle": "2021-10-07T10:13:03.616174Z",
          "shell.execute_reply.started": "2021-10-07T10:13:03.508191Z",
          "shell.execute_reply": "2021-10-07T10:13:03.615226Z"
        },
        "trusted": true,
        "colab": {
          "base_uri": "https://localhost:8080/"
        },
        "id": "ePFV_YBJRPBv",
        "outputId": "10566975-19df-41db-8830-1c31509f9cfd"
      },
      "source": [
        "# K Nearest Neighbor\n",
        "knn = KNeighborsClassifier()\n",
        "cv= cross_val_score(knn, X_train_scaled, y_train, cv = 5)\n",
        "print(cv)\n",
        "print(cv.mean())"
      ],
      "execution_count": 40,
      "outputs": [
        {
          "output_type": "stream",
          "name": "stdout",
          "text": [
            "[0.78651685 0.81460674 0.83146067 0.80898876 0.82485876]\n",
            "0.8132863581540025\n"
          ]
        }
      ]
    },
    {
      "cell_type": "code",
      "metadata": {
        "execution": {
          "iopub.status.busy": "2021-10-07T10:13:03.621495Z",
          "iopub.execute_input": "2021-10-07T10:13:03.621851Z",
          "iopub.status.idle": "2021-10-07T10:13:03.71338Z",
          "shell.execute_reply.started": "2021-10-07T10:13:03.621818Z",
          "shell.execute_reply": "2021-10-07T10:13:03.712374Z"
        },
        "trusted": true,
        "colab": {
          "base_uri": "https://localhost:8080/"
        },
        "id": "H5zmHZw0RPBw",
        "outputId": "d3498a88-95c8-4301-a759-00956c44f990"
      },
      "source": [
        "# K Nearest Neighbor\n",
        "knn = KNeighborsClassifier()\n",
        "cv= cross_val_score(knn, X_train, y_train, cv = 5)\n",
        "print(cv)\n",
        "print(cv.mean())"
      ],
      "execution_count": 41,
      "outputs": [
        {
          "output_type": "stream",
          "name": "stdout",
          "text": [
            "[0.79775281 0.81460674 0.76966292 0.80337079 0.82485876]\n",
            "0.8020504030978225\n"
          ]
        }
      ]
    },
    {
      "cell_type": "code",
      "metadata": {
        "execution": {
          "iopub.status.busy": "2021-10-07T10:13:03.714641Z",
          "iopub.execute_input": "2021-10-07T10:13:03.714913Z",
          "iopub.status.idle": "2021-10-07T10:13:04.737184Z",
          "shell.execute_reply.started": "2021-10-07T10:13:03.714874Z",
          "shell.execute_reply": "2021-10-07T10:13:04.73627Z"
        },
        "trusted": true,
        "colab": {
          "base_uri": "https://localhost:8080/"
        },
        "id": "Hu-xR6xzRPBw",
        "outputId": "8514b8c4-b375-4bb6-e45e-bd0a9305f985"
      },
      "source": [
        "# Random Forest\n",
        "rf = RandomForestClassifier(random_state = 1)\n",
        "cv = cross_val_score(rf, X_train_scaled, y_train, cv = 5)\n",
        "print(cv)\n",
        "print(cv.mean())"
      ],
      "execution_count": 42,
      "outputs": [
        {
          "output_type": "stream",
          "name": "stdout",
          "text": [
            "[0.78651685 0.80898876 0.83146067 0.76966292 0.81355932]\n",
            "0.8020377071034087\n"
          ]
        }
      ]
    },
    {
      "cell_type": "code",
      "metadata": {
        "execution": {
          "iopub.status.busy": "2021-10-07T10:13:04.738349Z",
          "iopub.execute_input": "2021-10-07T10:13:04.738569Z",
          "iopub.status.idle": "2021-10-07T10:13:05.897932Z",
          "shell.execute_reply.started": "2021-10-07T10:13:04.738543Z",
          "shell.execute_reply": "2021-10-07T10:13:05.897179Z"
        },
        "trusted": true,
        "colab": {
          "base_uri": "https://localhost:8080/"
        },
        "id": "7__xl2NRRPBw",
        "outputId": "80a0b65f-e4c0-4062-8790-bc0f9cedcf9d"
      },
      "source": [
        "rf = RandomForestClassifier(random_state = 1)\n",
        "cv = cross_val_score(rf, X_train, y_train, cv = 5)\n",
        "print(cv)\n",
        "print(cv.mean())"
      ],
      "execution_count": 43,
      "outputs": [
        {
          "output_type": "stream",
          "name": "stdout",
          "text": [
            "[0.78089888 0.80898876 0.83146067 0.7752809  0.81355932]\n",
            "0.8020377071034088\n"
          ]
        }
      ]
    },
    {
      "cell_type": "code",
      "metadata": {
        "execution": {
          "iopub.status.busy": "2021-10-07T10:13:05.89885Z",
          "iopub.execute_input": "2021-10-07T10:13:05.899089Z",
          "iopub.status.idle": "2021-10-07T10:13:06.679179Z",
          "shell.execute_reply.started": "2021-10-07T10:13:05.899065Z",
          "shell.execute_reply": "2021-10-07T10:13:06.678338Z"
        },
        "trusted": true,
        "colab": {
          "base_uri": "https://localhost:8080/"
        },
        "id": "FfcBNeKRRPBw",
        "outputId": "d5dcf0e3-9e8e-4d9a-f4a9-f81031383b09"
      },
      "source": [
        "# Support Vector Machine\n",
        "svc = SVC(probability = True)\n",
        "cv = cross_val_score(svc, X_train_scaled, y_train, cv = 5)\n",
        "print(cv)\n",
        "print(cv.mean())"
      ],
      "execution_count": 44,
      "outputs": [
        {
          "output_type": "stream",
          "name": "stdout",
          "text": [
            "[0.84831461 0.82022472 0.8258427  0.80337079 0.85875706]\n",
            "0.8313019742271314\n"
          ]
        }
      ]
    },
    {
      "cell_type": "code",
      "metadata": {
        "execution": {
          "iopub.status.busy": "2021-10-07T10:13:06.680704Z",
          "iopub.execute_input": "2021-10-07T10:13:06.681273Z",
          "iopub.status.idle": "2021-10-07T10:13:06.684639Z",
          "shell.execute_reply.started": "2021-10-07T10:13:06.681236Z",
          "shell.execute_reply": "2021-10-07T10:13:06.684066Z"
        },
        "trusted": true,
        "id": "KQt6-ic3RPBx"
      },
      "source": [
        "# XGBoost\n",
        "#import xgboost as xgb\n",
        "#xgb_regressor = xgb.XGBRegressor()\n",
        "#xgb = XGBClassifier(random_state = 1)\n",
        "#cv = cross_val_score(xgb, X_train_scaled, y_train, cv = 5)\n",
        "#print(cv)\n",
        "#print(cv.mean())"
      ],
      "execution_count": 45,
      "outputs": []
    },
    {
      "cell_type": "code",
      "metadata": {
        "execution": {
          "iopub.status.busy": "2021-10-07T10:13:06.686413Z",
          "iopub.execute_input": "2021-10-07T10:13:06.686917Z",
          "iopub.status.idle": "2021-10-07T10:13:06.699116Z",
          "shell.execute_reply.started": "2021-10-07T10:13:06.68688Z",
          "shell.execute_reply": "2021-10-07T10:13:06.698421Z"
        },
        "trusted": true,
        "id": "aOUdLjOmRPBx"
      },
      "source": [
        "# Voting classifier takes all of the inputs and averages the results. For a \"hard\" voting classifier each cassifier gets 1 vote \"yes\" or \"no\" and the\n",
        "# result is just a popular vote. For this you generally want odd numbers\n",
        "# A \"soft\" classifier averages the confidence of each of the models. If a the average confidence is > 50% that it is a 1, it will be counted as such\n",
        "from sklearn.ensemble import VotingClassifier\n",
        "voting_clf = VotingClassifier(estimators = [('lr', lr), ('knn',knn), ('rf',rf), ('gnb',gnb),('svc',svc)], voting = 'soft')"
      ],
      "execution_count": 46,
      "outputs": []
    },
    {
      "cell_type": "code",
      "metadata": {
        "execution": {
          "iopub.status.busy": "2021-10-07T10:13:06.700927Z",
          "iopub.execute_input": "2021-10-07T10:13:06.70161Z",
          "iopub.status.idle": "2021-10-07T10:13:09.070636Z",
          "shell.execute_reply.started": "2021-10-07T10:13:06.70157Z",
          "shell.execute_reply": "2021-10-07T10:13:09.069778Z"
        },
        "trusted": true,
        "colab": {
          "base_uri": "https://localhost:8080/"
        },
        "id": "QJGzyq1oRPBx",
        "outputId": "51fd740d-7ddd-4277-97bf-0f304daed0a8"
      },
      "source": [
        "cv = cross_val_score(voting_clf, X_train_scaled, y_train, cv = 5)\n",
        "print(cv)\n",
        "print(cv.mean())"
      ],
      "execution_count": 47,
      "outputs": [
        {
          "output_type": "stream",
          "name": "stdout",
          "text": [
            "[0.78089888 0.80337079 0.83707865 0.80898876 0.83050847]\n",
            "0.8121691106455913\n"
          ]
        }
      ]
    },
    {
      "cell_type": "code",
      "metadata": {
        "execution": {
          "iopub.status.busy": "2021-10-07T10:13:09.071937Z",
          "iopub.execute_input": "2021-10-07T10:13:09.072245Z",
          "iopub.status.idle": "2021-10-07T10:13:09.747404Z",
          "shell.execute_reply.started": "2021-10-07T10:13:09.072209Z",
          "shell.execute_reply": "2021-10-07T10:13:09.746437Z"
        },
        "trusted": true,
        "id": "HsVadfodRPBx"
      },
      "source": [
        "voting_clf.fit(X_train_scaled,y_train)\n",
        "y_hat_base_vc = voting_clf.predict(X_test_scaled)\n",
        "basic_submission = {'PassengerId': test_data.PassengerId, 'Survived' : y_hat_base_vc.astype(int)}\n",
        "base_submission = pd.DataFrame(data = basic_submission)\n",
        "base_submission.to_csv('base_submission.csv', index = False)"
      ],
      "execution_count": 48,
      "outputs": []
    },
    {
      "cell_type": "markdown",
      "metadata": {
        "id": "oz0opEGfRPBx"
      },
      "source": [
        "Model tuning\n",
        "After getting the baselines, let's see if we can improve on the individual model results. Mainly use grid search to tune the models. We use Randomized Search for the Random Forest and XG boosted model to simplify testing time."
      ]
    },
    {
      "cell_type": "markdown",
      "metadata": {
        "id": "qB_EvtS7RPBx"
      },
      "source": [
        "* Default model vs Tuned model performance\n",
        "Naive Bayes \n",
        "Logistic Regression 82.4% vs 82.6%\n"
      ]
    },
    {
      "cell_type": "code",
      "metadata": {
        "execution": {
          "iopub.status.busy": "2021-10-07T10:13:09.751654Z",
          "iopub.execute_input": "2021-10-07T10:13:09.754578Z",
          "iopub.status.idle": "2021-10-07T10:13:09.761075Z",
          "shell.execute_reply.started": "2021-10-07T10:13:09.754516Z",
          "shell.execute_reply": "2021-10-07T10:13:09.760239Z"
        },
        "trusted": true,
        "id": "kXJaSMwhRPBy"
      },
      "source": [
        "# DEFAULT MODEL VS TUNED MODEL\n",
        "# Naive Bayes = 72.1 VS None\n",
        "# Logistic Regression = 82.4% VS 82.6%\n",
        "# Decision Trees = 77.05% VS\n",
        "# K Nearest Neighbors = 81.32% VS 83.35%\n",
        "# Random Forest = 80.02% VS 83.2%\n",
        "# Support Vector Machine = 83.13% VS 83.13%\n",
        "# Voting classifier (All models) = 81.2% "
      ],
      "execution_count": 49,
      "outputs": []
    },
    {
      "cell_type": "code",
      "metadata": {
        "execution": {
          "iopub.status.busy": "2021-10-07T10:13:09.763548Z",
          "iopub.execute_input": "2021-10-07T10:13:09.764377Z",
          "iopub.status.idle": "2021-10-07T10:13:09.778472Z",
          "shell.execute_reply.started": "2021-10-07T10:13:09.764336Z",
          "shell.execute_reply": "2021-10-07T10:13:09.777784Z"
        },
        "trusted": true,
        "id": "a4vRT5rMRPBy"
      },
      "source": [
        "from sklearn.model_selection import GridSearchCV\n",
        "from sklearn.model_selection import RandomizedSearchCV"
      ],
      "execution_count": 50,
      "outputs": []
    },
    {
      "cell_type": "code",
      "metadata": {
        "execution": {
          "iopub.status.busy": "2021-10-07T10:13:09.77981Z",
          "iopub.execute_input": "2021-10-07T10:13:09.780333Z",
          "iopub.status.idle": "2021-10-07T10:13:09.791607Z",
          "shell.execute_reply.started": "2021-10-07T10:13:09.780291Z",
          "shell.execute_reply": "2021-10-07T10:13:09.790603Z"
        },
        "trusted": true,
        "id": "17hzsuSZRPBy"
      },
      "source": [
        "# A simple performance reporting function\n",
        "def clf_performance(classifier, model_name):\n",
        "    print(model_name)\n",
        "    print('Best score: ' + str(classifier.best_score_))\n",
        "    print('Best parameters: ' + str(classifier.best_params_))"
      ],
      "execution_count": 51,
      "outputs": []
    },
    {
      "cell_type": "code",
      "metadata": {
        "execution": {
          "iopub.status.busy": "2021-10-07T10:13:09.794386Z",
          "iopub.execute_input": "2021-10-07T10:13:09.796024Z",
          "iopub.status.idle": "2021-10-07T10:13:14.167902Z",
          "shell.execute_reply.started": "2021-10-07T10:13:09.795967Z",
          "shell.execute_reply": "2021-10-07T10:13:14.166795Z"
        },
        "trusted": true,
        "colab": {
          "base_uri": "https://localhost:8080/"
        },
        "id": "daowmtCBRPBy",
        "outputId": "6165c514-2873-409a-c515-06bc172eada8"
      },
      "source": [
        "# Logistic Regression\n",
        "lr = LogisticRegression()\n",
        "param_grid = {'max_iter' : [2000],\n",
        "              'penalty' : ['l1','l2'],\n",
        "              'C' : np.logspace(-4, 4, 20),\n",
        "              'solver' : ['liblinear']\n",
        "             }\n",
        "clf_lr = GridSearchCV(lr, param_grid = param_grid, cv =5 , verbose = True, n_jobs = -1)\n",
        "best_clf_lr = clf_lr.fit(X_train_scaled, y_train)\n",
        "clf_performance(best_clf_lr, 'Logistic Regression')"
      ],
      "execution_count": 52,
      "outputs": [
        {
          "output_type": "stream",
          "name": "stdout",
          "text": [
            "Fitting 5 folds for each of 40 candidates, totalling 200 fits\n"
          ]
        },
        {
          "output_type": "stream",
          "name": "stderr",
          "text": [
            "[Parallel(n_jobs=-1)]: Using backend LokyBackend with 2 concurrent workers.\n",
            "[Parallel(n_jobs=-1)]: Done 180 tasks      | elapsed:    4.3s\n"
          ]
        },
        {
          "output_type": "stream",
          "name": "stdout",
          "text": [
            "Logistic Regression\n",
            "Best score: 0.8268012442074525\n",
            "Best parameters: {'C': 0.615848211066026, 'max_iter': 2000, 'penalty': 'l2', 'solver': 'liblinear'}\n"
          ]
        },
        {
          "output_type": "stream",
          "name": "stderr",
          "text": [
            "[Parallel(n_jobs=-1)]: Done 200 out of 200 | elapsed:    5.0s finished\n"
          ]
        }
      ]
    },
    {
      "cell_type": "code",
      "metadata": {
        "execution": {
          "iopub.status.busy": "2021-10-07T10:13:14.169381Z",
          "iopub.execute_input": "2021-10-07T10:13:14.16971Z",
          "iopub.status.idle": "2021-10-07T10:13:16.015701Z",
          "shell.execute_reply.started": "2021-10-07T10:13:14.169599Z",
          "shell.execute_reply": "2021-10-07T10:13:16.014872Z"
        },
        "trusted": true,
        "colab": {
          "base_uri": "https://localhost:8080/"
        },
        "id": "Qepx0fdvRPBy",
        "outputId": "d1fd9ec6-be7c-474a-a736-4ab54584f1de"
      },
      "source": [
        "# K Nearest Neighbor\n",
        "knn = KNeighborsClassifier()\n",
        "param_grid = {'n_neighbors': [3,5,7,9],\n",
        "             'weights' : ['uniform', 'distance'],\n",
        "             'algorithm' : ['auto', 'ball_tree', 'kd_tree'],\n",
        "             'p': [1,2]\n",
        "             } \n",
        "clf_knn = GridSearchCV(knn, param_grid = param_grid, cv = 5, verbose = True, n_jobs = -1)\n",
        "best_clf_knn = clf_knn.fit(X_train_scaled, y_train)\n",
        "clf_performance(best_clf_knn , 'KNN')"
      ],
      "execution_count": 53,
      "outputs": [
        {
          "output_type": "stream",
          "name": "stderr",
          "text": [
            "[Parallel(n_jobs=-1)]: Using backend LokyBackend with 2 concurrent workers.\n"
          ]
        },
        {
          "output_type": "stream",
          "name": "stdout",
          "text": [
            "Fitting 5 folds for each of 48 candidates, totalling 240 fits\n",
            "KNN\n",
            "Best score: 0.833561861232781\n",
            "Best parameters: {'algorithm': 'auto', 'n_neighbors': 9, 'p': 1, 'weights': 'uniform'}\n"
          ]
        },
        {
          "output_type": "stream",
          "name": "stderr",
          "text": [
            "[Parallel(n_jobs=-1)]: Done 240 out of 240 | elapsed:    3.2s finished\n"
          ]
        }
      ]
    },
    {
      "cell_type": "code",
      "metadata": {
        "execution": {
          "iopub.status.busy": "2021-10-07T10:13:16.016925Z",
          "iopub.execute_input": "2021-10-07T10:13:16.017613Z",
          "iopub.status.idle": "2021-10-07T10:17:22.822357Z",
          "shell.execute_reply.started": "2021-10-07T10:13:16.017578Z",
          "shell.execute_reply": "2021-10-07T10:17:22.821728Z"
        },
        "trusted": true,
        "colab": {
          "base_uri": "https://localhost:8080/"
        },
        "id": "LwIeCy6nRPBy",
        "outputId": "a0c6f069-f2a9-4308-92aa-698b42c85758"
      },
      "source": [
        "# Support Vector Machine\n",
        "svc = SVC(probability = True)\n",
        "param_grid = tuned_parameters = [{'kernel' : ['rbf'], 'gamma' : [0.1, 0.5, 1, 2, 5, 10],\n",
        "                                 'C': [0.1, 1, 10, 100, 1000]\n",
        "                                 },\n",
        "                                 {'kernel' : ['linear'], 'C' : [0.1, 1, 10, 100, 1000]},\n",
        "                                 {'kernel' : ['poly'], 'degree' : [2, 3, 4, 5], 'C' : [0.1, 1, 10, 100, 1000]}]\n",
        "clf_svc = GridSearchCV(svc, param_grid = param_grid, cv = 5, verbose = True, n_jobs = -1)\n",
        "best_clf_svc = clf_svc.fit(X_train_scaled, y_train)\n",
        "clf_performance(best_clf_svc, 'SVC')"
      ],
      "execution_count": 54,
      "outputs": [
        {
          "output_type": "stream",
          "name": "stderr",
          "text": [
            "[Parallel(n_jobs=-1)]: Using backend LokyBackend with 2 concurrent workers.\n"
          ]
        },
        {
          "output_type": "stream",
          "name": "stdout",
          "text": [
            "Fitting 5 folds for each of 55 candidates, totalling 275 fits\n"
          ]
        },
        {
          "output_type": "stream",
          "name": "stderr",
          "text": [
            "[Parallel(n_jobs=-1)]: Done  46 tasks      | elapsed:    6.3s\n",
            "[Parallel(n_jobs=-1)]: Done 196 tasks      | elapsed:  5.7min\n"
          ]
        },
        {
          "output_type": "stream",
          "name": "stdout",
          "text": [
            "SVC\n",
            "Best score: 0.8313083222243381\n",
            "Best parameters: {'C': 0.1, 'degree': 3, 'kernel': 'poly'}\n"
          ]
        },
        {
          "output_type": "stream",
          "name": "stderr",
          "text": [
            "[Parallel(n_jobs=-1)]: Done 275 out of 275 | elapsed:  7.3min finished\n"
          ]
        }
      ]
    },
    {
      "cell_type": "code",
      "metadata": {
        "execution": {
          "iopub.status.busy": "2021-10-07T10:17:22.823648Z",
          "iopub.execute_input": "2021-10-07T10:17:22.824276Z",
          "iopub.status.idle": "2021-10-07T10:20:21.151301Z",
          "shell.execute_reply.started": "2021-10-07T10:17:22.824241Z",
          "shell.execute_reply": "2021-10-07T10:20:21.150125Z"
        },
        "trusted": true,
        "colab": {
          "base_uri": "https://localhost:8080/"
        },
        "id": "bzBawX_ERPBy",
        "outputId": "5ab5a11b-13d1-4935-a2af-5031957355d7"
      },
      "source": [
        "# Random Forest\n",
        "# Random Forests have limitless possibilities, so we specify the parameters and then use the RandomizedSearchCV to \n",
        "# randomly sample from them and then choose the best ones possible\n",
        "\n",
        "rf = RandomForestClassifier(random_state = 1)\n",
        "param_grid = {'n_estimators': [100, 500, 1000],\n",
        "             'bootstrap' : [True, False],\n",
        "              'max_depth' : [3, 5, 10, 20, 50, 75, 100, None],\n",
        "              'max_features' : ['auto', 'sqrt'],\n",
        "              'min_samples_leaf' : [1, 2, 4, 10],\n",
        "              'min_samples_split' : [2, 5, 10]\n",
        "             }\n",
        "clf_rf_rnd = RandomizedSearchCV(rf, param_distributions = param_grid, n_iter = 100, cv = 5, verbose = True, n_jobs = -1)\n",
        "best_clf_rf_rnd = clf_rf_rnd.fit(X_train_scaled, y_train)\n",
        "clf_performance(best_clf_rf_rnd, 'Random Forest')"
      ],
      "execution_count": 55,
      "outputs": [
        {
          "output_type": "stream",
          "name": "stdout",
          "text": [
            "Fitting 5 folds for each of 100 candidates, totalling 500 fits\n"
          ]
        },
        {
          "output_type": "stream",
          "name": "stderr",
          "text": [
            "[Parallel(n_jobs=-1)]: Using backend LokyBackend with 2 concurrent workers.\n",
            "[Parallel(n_jobs=-1)]: Done  46 tasks      | elapsed:   44.8s\n",
            "[Parallel(n_jobs=-1)]: Done 196 tasks      | elapsed:  2.7min\n",
            "[Parallel(n_jobs=-1)]: Done 446 tasks      | elapsed:  5.5min\n",
            "[Parallel(n_jobs=-1)]: Done 500 out of 500 | elapsed:  6.2min finished\n"
          ]
        },
        {
          "output_type": "stream",
          "name": "stdout",
          "text": [
            "Random Forest\n",
            "Best score: 0.8324255697327493\n",
            "Best parameters: {'n_estimators': 1000, 'min_samples_split': 5, 'min_samples_leaf': 2, 'max_features': 'sqrt', 'max_depth': 10, 'bootstrap': False}\n"
          ]
        }
      ]
    },
    {
      "cell_type": "code",
      "metadata": {
        "execution": {
          "iopub.status.busy": "2021-10-07T10:20:21.152473Z",
          "iopub.execute_input": "2021-10-07T10:20:21.152722Z",
          "iopub.status.idle": "2021-10-07T10:29:02.801534Z",
          "shell.execute_reply.started": "2021-10-07T10:20:21.152694Z",
          "shell.execute_reply": "2021-10-07T10:29:02.800615Z"
        },
        "trusted": true,
        "colab": {
          "base_uri": "https://localhost:8080/"
        },
        "id": "14BXDL8DRPBz",
        "outputId": "cd9a0ead-f297-4af9-c4d0-f73e37610940"
      },
      "source": [
        "rf = RandomForestClassifier(random_state = 1)\n",
        "param_grid = {'n_estimators': [400, 450, 500, 550],\n",
        "              'criterion' : ['gini', 'entropy'],\n",
        "             'bootstrap' : [True],\n",
        "              'max_depth' : [15, 20, 25],\n",
        "              'max_features' : ['auto', 'sqrt', 10],\n",
        "              'min_samples_leaf' : [2, 3],\n",
        "              'min_samples_split' : [2, 3]\n",
        "             }\n",
        "\n",
        "clf_rf = GridSearchCV(rf, param_grid = param_grid, cv = 5, verbose = True, n_jobs = -1)\n",
        "best_clf_rf = clf_rf.fit(X_train_scaled, y_train)\n",
        "clf_performance(best_clf_rf, 'Random Forest')"
      ],
      "execution_count": 56,
      "outputs": [
        {
          "output_type": "stream",
          "name": "stdout",
          "text": [
            "Fitting 5 folds for each of 288 candidates, totalling 1440 fits\n"
          ]
        },
        {
          "output_type": "stream",
          "name": "stderr",
          "text": [
            "[Parallel(n_jobs=-1)]: Using backend LokyBackend with 2 concurrent workers.\n",
            "[Parallel(n_jobs=-1)]: Done  46 tasks      | elapsed:   31.7s\n",
            "[Parallel(n_jobs=-1)]: Done 196 tasks      | elapsed:  2.3min\n",
            "[Parallel(n_jobs=-1)]: Done 446 tasks      | elapsed:  5.2min\n",
            "[Parallel(n_jobs=-1)]: Done 796 tasks      | elapsed:  9.3min\n",
            "[Parallel(n_jobs=-1)]: Done 1246 tasks      | elapsed: 14.7min\n",
            "[Parallel(n_jobs=-1)]: Done 1440 out of 1440 | elapsed: 17.2min finished\n"
          ]
        },
        {
          "output_type": "stream",
          "name": "stdout",
          "text": [
            "Random Forest\n",
            "Best score: 0.831321018218752\n",
            "Best parameters: {'bootstrap': True, 'criterion': 'entropy', 'max_depth': 15, 'max_features': 'auto', 'min_samples_leaf': 2, 'min_samples_split': 2, 'n_estimators': 400}\n"
          ]
        }
      ]
    },
    {
      "cell_type": "code",
      "metadata": {
        "execution": {
          "iopub.status.busy": "2021-10-07T10:29:02.803175Z",
          "iopub.execute_input": "2021-10-07T10:29:02.803482Z",
          "iopub.status.idle": "2021-10-07T10:29:03.852978Z",
          "shell.execute_reply.started": "2021-10-07T10:29:02.803445Z",
          "shell.execute_reply": "2021-10-07T10:29:03.85241Z"
        },
        "trusted": true,
        "colab": {
          "base_uri": "https://localhost:8080/",
          "height": 282
        },
        "id": "jcA0zy0zRPBz",
        "outputId": "921d81fd-7516-445f-e20d-9b41d43c1794"
      },
      "source": [
        "best_rf = best_clf_rf.best_estimator_.fit(X_train_scaled, y_train)\n",
        "feat_importances = pd.Series(best_rf.feature_importances_, index = X_train_scaled.columns)\n",
        "feat_importances.nlargest(20).plot(kind='barh')"
      ],
      "execution_count": 57,
      "outputs": [
        {
          "output_type": "execute_result",
          "data": {
            "text/plain": [
              "<matplotlib.axes._subplots.AxesSubplot at 0x7f6b3924fed0>"
            ]
          },
          "metadata": {},
          "execution_count": 57
        },
        {
          "output_type": "display_data",
          "data": {
            "image/png": "[encoded data removed]",
            "text/plain": [
              "<Figure size 432x288 with 1 Axes>"
            ]
          },
          "metadata": {
            "needs_background": "light"
          }
        }
      ]
    },
    {
      "cell_type": "code",
      "metadata": {
        "execution": {
          "iopub.status.busy": "2021-10-07T10:29:03.854095Z",
          "iopub.execute_input": "2021-10-07T10:29:03.854467Z",
          "iopub.status.idle": "2021-10-07T10:29:03.918637Z",
          "shell.execute_reply.started": "2021-10-07T10:29:03.854441Z",
          "shell.execute_reply": "2021-10-07T10:29:03.918059Z"
        },
        "trusted": true,
        "id": "vaal1lMwRPBz"
      },
      "source": [
        "y_hat_rf = best_clf_rf.best_estimator_.predict(X_test_scaled)\n",
        "rf_submission = {'PassengerId': test_data.PassengerId, 'Survived': y_hat_rf}\n",
        "submission_rf = pd.DataFrame(data = rf_submission)\n",
        "submission_rf.to_csv('submission_.csv', index = False)"
      ],
      "execution_count": 58,
      "outputs": []
    },
    {
      "cell_type": "markdown",
      "metadata": {
        "id": "a9MThzzfRPBz"
      },
      "source": [
        "Random Forest seems to have the best performance."
      ]
    },
    {
      "cell_type": "markdown",
      "metadata": {
        "id": "OLnh6_JMRPBz"
      },
      "source": [
        "We can do more detailed analysis using soft voting and hard voting classifiers\n"
      ]
    },
    {
      "cell_type": "code",
      "metadata": {
        "execution": {
          "iopub.status.busy": "2021-10-07T10:29:03.919844Z",
          "iopub.execute_input": "2021-10-07T10:29:03.920104Z",
          "iopub.status.idle": "2021-10-07T10:29:03.926872Z",
          "shell.execute_reply.started": "2021-10-07T10:29:03.920078Z",
          "shell.execute_reply": "2021-10-07T10:29:03.926014Z"
        },
        "trusted": true,
        "id": "K7TLKyXhRPBz"
      },
      "source": [
        "# We shall experiment with a hard voting classifier of three estimators (KNN, SVM, RF) 81.6 %\n",
        "# We shall experiment with a soft voting classifier of three estimators (KNN, SVM, RF) (Used this) 80.9%\n",
        "# We shall experiment with soft voting classifier on all esimators better than 80% (KNN, RF, LR, SVC) 81.7%"
      ],
      "execution_count": 59,
      "outputs": []
    },
    {
      "cell_type": "code",
      "metadata": {
        "execution": {
          "iopub.status.busy": "2021-10-07T10:29:03.927973Z",
          "iopub.execute_input": "2021-10-07T10:29:03.928201Z",
          "iopub.status.idle": "2021-10-07T10:29:30.336572Z",
          "shell.execute_reply.started": "2021-10-07T10:29:03.928176Z",
          "shell.execute_reply": "2021-10-07T10:29:30.335724Z"
        },
        "trusted": true,
        "colab": {
          "base_uri": "https://localhost:8080/"
        },
        "id": "EeOwv2XyRPBz",
        "outputId": "dd9fdc67-1e1a-49c0-ff7b-09899b62ac52"
      },
      "source": [
        "best_lr = best_clf_lr.best_estimator_\n",
        "best_knn = best_clf_knn.best_estimator_\n",
        "best_svc = best_clf_svc.best_estimator_\n",
        "best_rf = best_clf_rf.best_estimator_\n",
        "\n",
        "voting_clf_hard = VotingClassifier(estimators = [('knn', best_knn), ('rf', best_rf), ('svc', best_svc)], voting = 'hard')\n",
        "\n",
        "voting_clf_soft = VotingClassifier(estimators = [('knn', best_knn), ('rf', best_rf), ('svc', best_svc)], voting = 'soft')\n",
        "\n",
        "\n",
        "voting_clf_all = VotingClassifier(estimators = [('knn', best_knn), ('rf', best_rf), ('svc', best_svc), ('lr', best_lr)], voting = 'soft')\n",
        "\n",
        "print('voting_clf_hard: ', cross_val_score(voting_clf_hard, X_train, y_train, cv = 5))\n",
        "print('voting_clf_hard mean: ', cross_val_score(voting_clf_hard, X_train, y_train, cv = 5).mean())\n",
        "\n",
        "\n",
        "print('voting_clf_soft: ', cross_val_score(voting_clf_soft, X_train, y_train, cv = 5))\n",
        "print('voting_clf_soft mean: ', cross_val_score(voting_clf_soft, X_train, y_train, cv = 5).mean())\n",
        "\n",
        "print('voting_clf_all: ', cross_val_score(voting_clf_all, X_train, y_train, cv = 5))\n",
        "print('voting_clf_all mean: ', cross_val_score(voting_clf_all, X_train, y_train, cv = 5).mean())\n",
        "\n"
      ],
      "execution_count": 60,
      "outputs": [
        {
          "output_type": "stream",
          "name": "stdout",
          "text": [
            "voting_clf_hard:  [0.80898876 0.80898876 0.83146067 0.78651685 0.84745763]\n",
            "voting_clf_hard mean:  0.8166825366596839\n",
            "voting_clf_soft:  [0.81460674 0.80337079 0.82022472 0.76966292 0.84180791]\n",
            "voting_clf_soft mean:  0.8110582111343871\n",
            "voting_clf_all:  [0.8258427  0.80337079 0.8258427  0.78089888 0.85310734]\n",
            "voting_clf_all mean:  0.8189360756681268\n"
          ]
        }
      ]
    },
    {
      "cell_type": "code",
      "metadata": {
        "execution": {
          "iopub.status.busy": "2021-10-07T10:29:54.422735Z",
          "iopub.execute_input": "2021-10-07T10:29:54.423651Z",
          "iopub.status.idle": "2021-10-07T10:30:08.168561Z",
          "shell.execute_reply.started": "2021-10-07T10:29:54.423614Z",
          "shell.execute_reply": "2021-10-07T10:30:08.167617Z"
        },
        "trusted": true,
        "colab": {
          "base_uri": "https://localhost:8080/"
        },
        "id": "styjjBqoRPB0",
        "outputId": "e7515073-6a66-413f-ac75-981366d17771"
      },
      "source": [
        "# Assigning weights to some models in the soft voting classifier and using GridSearch to explore the impact of different weightings\n",
        "# No new results were obtained\n",
        "params = {'weights' : [[1,1,1], [1,2,1],[1,1,2],[2,1,1],[2,2,1],[1,2,2],[2,1,2]]}\n",
        "\n",
        "vote_weight = GridSearchCV(voting_clf_soft, param_grid = params, cv= 5, verbose = True, n_jobs = -1)\n",
        "best_clf_weight = vote_weight.fit(X_train_scaled, y_train)\n",
        "clf_performance(best_clf_weight, 'VC Weights')\n",
        "voting_clf_sub = best_clf_weight.best_estimator_.predict(X_test_scaled)"
      ],
      "execution_count": 61,
      "outputs": [
        {
          "output_type": "stream",
          "name": "stdout",
          "text": [
            "Fitting 5 folds for each of 7 candidates, totalling 35 fits\n"
          ]
        },
        {
          "output_type": "stream",
          "name": "stderr",
          "text": [
            "[Parallel(n_jobs=-1)]: Using backend LokyBackend with 2 concurrent workers.\n",
            "[Parallel(n_jobs=-1)]: Done  35 out of  35 | elapsed:   24.5s finished\n"
          ]
        },
        {
          "output_type": "stream",
          "name": "stdout",
          "text": [
            "VC Weights\n",
            "Best score: 0.8324446137243701\n",
            "Best parameters: {'weights': [1, 1, 2]}\n"
          ]
        }
      ]
    },
    {
      "cell_type": "code",
      "metadata": {
        "execution": {
          "iopub.status.busy": "2021-10-07T10:30:17.688743Z",
          "iopub.execute_input": "2021-10-07T10:30:17.689352Z",
          "iopub.status.idle": "2021-10-07T10:30:21.414911Z",
          "shell.execute_reply.started": "2021-10-07T10:30:17.689315Z",
          "shell.execute_reply": "2021-10-07T10:30:21.414109Z"
        },
        "trusted": true,
        "id": "7ifKgSO7RPB0"
      },
      "source": [
        "# Make predictions\n",
        "voting_clf_hard.fit(X_train_scaled, y_train)\n",
        "voting_clf_soft.fit(X_train_scaled, y_train)\n",
        "voting_clf_all.fit(X_train_scaled, y_train)\n",
        "best_rf.fit(X_train_scaled, y_train)\n",
        "\n",
        "y_hat_vc_hard = voting_clf_hard.predict(X_test_scaled)\n",
        "y_hat_rf = best_rf.predict(X_test_scaled)\n",
        "y_hat_vc_soft = voting_clf_soft.predict(X_test_scaled)\n",
        "y_hat_vc_all = voting_clf_all.predict(X_test_scaled)"
      ],
      "execution_count": 62,
      "outputs": []
    },
    {
      "cell_type": "code",
      "metadata": {
        "execution": {
          "iopub.status.busy": "2021-10-07T10:30:27.865944Z",
          "iopub.execute_input": "2021-10-07T10:30:27.86626Z",
          "iopub.status.idle": "2021-10-07T10:30:27.875229Z",
          "shell.execute_reply.started": "2021-10-07T10:30:27.86623Z",
          "shell.execute_reply": "2021-10-07T10:30:27.874362Z"
        },
        "trusted": true,
        "id": "GKN4JNg_RPB0"
      },
      "source": [
        "# Convert the output to DataFrames\n",
        "final_data = {'PassengerId' : test_data.PassengerId, 'Survived' : y_hat_rf.astype(int)}\n",
        "submission = pd.DataFrame(data = final_data)\n",
        "\n",
        "final_data_2 = {'PassengerId' : test_data.PassengerId, 'Survived' : y_hat_vc_hard.astype(int)}\n",
        "submission_2 = pd.DataFrame(data = final_data_2)\n",
        "\n",
        "final_data_3 = {'PassengerId' : test_data.PassengerId, 'Survived' : y_hat_vc_soft.astype(int)}\n",
        "submission_3 = pd.DataFrame(data = final_data_3)\n",
        "\n",
        "final_data_4 = {'PassengerId' : test_data.PassengerId, 'Survived' : y_hat_vc_all.astype(int)}\n",
        "submission_4 = pd.DataFrame(data = final_data_4)"
      ],
      "execution_count": 84,
      "outputs": []
    },
    {
      "cell_type": "code",
      "metadata": {
        "execution": {
          "iopub.status.busy": "2021-10-07T10:34:16.5253Z",
          "iopub.execute_input": "2021-10-07T10:34:16.525566Z",
          "iopub.status.idle": "2021-10-07T10:34:16.531888Z",
          "shell.execute_reply.started": "2021-10-07T10:34:16.52554Z",
          "shell.execute_reply": "2021-10-07T10:34:16.531083Z"
        },
        "trusted": true,
        "id": "wtltvPQ0RPB0"
      },
      "source": [
        "final_data_comp = {'PassengerId': test_data.PassengerId, 'Survived_vc_hard': y_hat_vc_hard, 'Survived_rf': y_hat_rf, 'Survived_vc_soft': y_hat_vc_soft,\n",
        "                  'Survived_vc_all' : y_hat_vc_all}\n",
        "comparison = pd.DataFrame(data= final_data_comp)"
      ],
      "execution_count": 85,
      "outputs": []
    },
    {
      "cell_type": "code",
      "metadata": {
        "execution": {
          "iopub.status.busy": "2021-10-07T10:34:18.637208Z",
          "iopub.execute_input": "2021-10-07T10:34:18.63749Z",
          "iopub.status.idle": "2021-10-07T10:34:18.686284Z",
          "shell.execute_reply.started": "2021-10-07T10:34:18.637461Z",
          "shell.execute_reply": "2021-10-07T10:34:18.685599Z"
        },
        "trusted": true,
        "id": "mSDupge0RPB0"
      },
      "source": [
        "# Tracking the differences in output\n",
        "comparison['difference_rf_vc_hard'] = comparison.apply(lambda x: 1 if x.Survived_vc_hard != x.Survived_rf else 0, axis = 1)\n",
        "comparison['difference_soft_hard'] = comparison.apply(lambda x: 1 if x.Survived_vc_hard != x.Survived_vc_soft else 0, axis = 1)\n",
        "comparison['difference_hard_all'] = comparison.apply(lambda x: 1 if x.Survived_vc_all != x.Survived_vc_hard else 0, axis = 1)\n"
      ],
      "execution_count": 86,
      "outputs": []
    },
    {
      "cell_type": "code",
      "metadata": {
        "execution": {
          "iopub.status.busy": "2021-10-07T10:34:21.90531Z",
          "iopub.execute_input": "2021-10-07T10:34:21.906015Z",
          "iopub.status.idle": "2021-10-07T10:34:21.916654Z",
          "shell.execute_reply.started": "2021-10-07T10:34:21.905949Z",
          "shell.execute_reply": "2021-10-07T10:34:21.915683Z"
        },
        "trusted": true,
        "colab": {
          "base_uri": "https://localhost:8080/"
        },
        "id": "5HtgjKWZRPB0",
        "outputId": "07cde510-b28f-466a-8049-c87dd6bb4598"
      },
      "source": [
        "comparison.difference_hard_all.value_counts()"
      ],
      "execution_count": 87,
      "outputs": [
        {
          "output_type": "execute_result",
          "data": {
            "text/plain": [
              "0    406\n",
              "1     12\n",
              "Name: difference_hard_all, dtype: int64"
            ]
          },
          "metadata": {},
          "execution_count": 87
        }
      ]
    },
    {
      "cell_type": "code",
      "metadata": {
        "execution": {
          "iopub.status.busy": "2021-10-07T10:34:22.849169Z",
          "iopub.execute_input": "2021-10-07T10:34:22.849843Z",
          "iopub.status.idle": "2021-10-07T10:34:22.858797Z",
          "shell.execute_reply.started": "2021-10-07T10:34:22.849799Z",
          "shell.execute_reply": "2021-10-07T10:34:22.857653Z"
        },
        "trusted": true,
        "colab": {
          "base_uri": "https://localhost:8080/"
        },
        "id": "ThuYAvJtRPB1",
        "outputId": "210f3285-bfdc-4c51-ea46-4d3717e7e32a"
      },
      "source": [
        "comparison.difference_soft_hard.value_counts()"
      ],
      "execution_count": 88,
      "outputs": [
        {
          "output_type": "execute_result",
          "data": {
            "text/plain": [
              "0    408\n",
              "1     10\n",
              "Name: difference_soft_hard, dtype: int64"
            ]
          },
          "metadata": {},
          "execution_count": 88
        }
      ]
    },
    {
      "cell_type": "code",
      "metadata": {
        "execution": {
          "iopub.status.busy": "2021-10-07T10:34:27.737252Z",
          "iopub.execute_input": "2021-10-07T10:34:27.73756Z",
          "iopub.status.idle": "2021-10-07T10:34:27.746359Z",
          "shell.execute_reply.started": "2021-10-07T10:34:27.73753Z",
          "shell.execute_reply": "2021-10-07T10:34:27.745322Z"
        },
        "trusted": true,
        "colab": {
          "base_uri": "https://localhost:8080/"
        },
        "id": "BotryFkFRPB1",
        "outputId": "7aa6f051-8164-45ad-d2cb-6907cc7da17e"
      },
      "source": [
        "comparison.difference_rf_vc_hard.value_counts()"
      ],
      "execution_count": 89,
      "outputs": [
        {
          "output_type": "execute_result",
          "data": {
            "text/plain": [
              "0    407\n",
              "1     11\n",
              "Name: difference_rf_vc_hard, dtype: int64"
            ]
          },
          "metadata": {},
          "execution_count": 89
        }
      ]
    },
    {
      "cell_type": "markdown",
      "metadata": {
        "id": "KWSwmavoRPB1"
      },
      "source": [
        "We checked if there is a difference in the output. Since we see some difference it is worth a try to make different submissions.**"
      ]
    },
    {
      "cell_type": "code",
      "metadata": {
        "execution": {
          "iopub.status.busy": "2021-10-07T10:34:30.483773Z",
          "iopub.execute_input": "2021-10-07T10:34:30.484104Z",
          "iopub.status.idle": "2021-10-07T10:34:30.498165Z",
          "shell.execute_reply.started": "2021-10-07T10:34:30.484071Z",
          "shell.execute_reply": "2021-10-07T10:34:30.497113Z"
        },
        "trusted": true,
        "id": "RF3XJBxzRPB1"
      },
      "source": [
        "# Prepare submission files\n",
        "submission.to_csv('submission_rf.csv', index = False)\n",
        "submission_2.to_csv('submission_vc_hard.csv', index = False)\n",
        "submission_3.to_csv('submission_vc_soft.csv', index = False)\n",
        "submission_4.to_csv('submission_vc_all.csv', index = False)\n"
      ],
      "execution_count": 90,
      "outputs": []
    },
    {
      "cell_type": "code",
      "metadata": {
        "colab": {
          "base_uri": "https://localhost:8080/",
          "height": 204
        },
        "id": "huohkP8jZOKY",
        "outputId": "36807b5d-4dc3-43e1-83c9-da2846748bda"
      },
      "source": [
        "#submission.Survived = submission.Survived.astype(int)\n",
        "submission_2.head()"
      ],
      "execution_count": 91,
      "outputs": [
        {
          "output_type": "execute_result",
          "data": {
            "text/html": [
              "<div>\n",
              "<style scoped>\n",
              "    .dataframe tbody tr th:only-of-type {\n",
              "        vertical-align: middle;\n",
              "    }\n",
              "\n",
              "    .dataframe tbody tr th {\n",
              "        vertical-align: top;\n",
              "    }\n",
              "\n",
              "    .dataframe thead th {\n",
              "        text-align: right;\n",
              "    }\n",
              "</style>\n",
              "<table border=\"1\" class=\"dataframe\">\n",
              "  <thead>\n",
              "    <tr style=\"text-align: right;\">\n",
              "      <th></th>\n",
              "      <th>PassengerId</th>\n",
              "      <th>Survived</th>\n",
              "    </tr>\n",
              "  </thead>\n",
              "  <tbody>\n",
              "    <tr>\n",
              "      <th>0</th>\n",
              "      <td>892</td>\n",
              "      <td>0</td>\n",
              "    </tr>\n",
              "    <tr>\n",
              "      <th>1</th>\n",
              "      <td>893</td>\n",
              "      <td>1</td>\n",
              "    </tr>\n",
              "    <tr>\n",
              "      <th>2</th>\n",
              "      <td>894</td>\n",
              "      <td>0</td>\n",
              "    </tr>\n",
              "    <tr>\n",
              "      <th>3</th>\n",
              "      <td>895</td>\n",
              "      <td>0</td>\n",
              "    </tr>\n",
              "    <tr>\n",
              "      <th>4</th>\n",
              "      <td>896</td>\n",
              "      <td>1</td>\n",
              "    </tr>\n",
              "  </tbody>\n",
              "</table>\n",
              "</div>"
            ],
            "text/plain": [
              "   PassengerId  Survived\n",
              "0          892         0\n",
              "1          893         1\n",
              "2          894         0\n",
              "3          895         0\n",
              "4          896         1"
            ]
          },
          "metadata": {},
          "execution_count": 91
        }
      ]
    },
    {
      "cell_type": "code",
      "metadata": {
        "colab": {
          "base_uri": "https://localhost:8080/",
          "height": 204
        },
        "id": "hi8-f_00ZPbH",
        "outputId": "eca97f43-a0ff-437c-da2d-1767cfac77c1"
      },
      "source": [
        "submission.columns = ['PassengerId', 'Survived']\n",
        "submission.head()"
      ],
      "execution_count": 92,
      "outputs": [
        {
          "output_type": "execute_result",
          "data": {
            "text/html": [
              "<div>\n",
              "<style scoped>\n",
              "    .dataframe tbody tr th:only-of-type {\n",
              "        vertical-align: middle;\n",
              "    }\n",
              "\n",
              "    .dataframe tbody tr th {\n",
              "        vertical-align: top;\n",
              "    }\n",
              "\n",
              "    .dataframe thead th {\n",
              "        text-align: right;\n",
              "    }\n",
              "</style>\n",
              "<table border=\"1\" class=\"dataframe\">\n",
              "  <thead>\n",
              "    <tr style=\"text-align: right;\">\n",
              "      <th></th>\n",
              "      <th>PassengerId</th>\n",
              "      <th>Survived</th>\n",
              "    </tr>\n",
              "  </thead>\n",
              "  <tbody>\n",
              "    <tr>\n",
              "      <th>0</th>\n",
              "      <td>892</td>\n",
              "      <td>0</td>\n",
              "    </tr>\n",
              "    <tr>\n",
              "      <th>1</th>\n",
              "      <td>893</td>\n",
              "      <td>0</td>\n",
              "    </tr>\n",
              "    <tr>\n",
              "      <th>2</th>\n",
              "      <td>894</td>\n",
              "      <td>0</td>\n",
              "    </tr>\n",
              "    <tr>\n",
              "      <th>3</th>\n",
              "      <td>895</td>\n",
              "      <td>0</td>\n",
              "    </tr>\n",
              "    <tr>\n",
              "      <th>4</th>\n",
              "      <td>896</td>\n",
              "      <td>1</td>\n",
              "    </tr>\n",
              "  </tbody>\n",
              "</table>\n",
              "</div>"
            ],
            "text/plain": [
              "   PassengerId  Survived\n",
              "0          892         0\n",
              "1          893         0\n",
              "2          894         0\n",
              "3          895         0\n",
              "4          896         1"
            ]
          },
          "metadata": {},
          "execution_count": 92
        }
      ]
    },
    {
      "cell_type": "code",
      "metadata": {
        "id": "hq4SL8v7ZZHm"
      },
      "source": [
        ""
      ],
      "execution_count": 92,
      "outputs": []
    }
  ]
}